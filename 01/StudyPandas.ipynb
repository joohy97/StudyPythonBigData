{
 "metadata": {
  "language_info": {
   "codemirror_mode": {
    "name": "ipython",
    "version": 3
   },
   "file_extension": ".py",
   "mimetype": "text/x-python",
   "name": "python",
   "nbconvert_exporter": "python",
   "pygments_lexer": "ipython3",
   "version": "3.9.2"
  },
  "orig_nbformat": 2,
  "kernelspec": {
   "name": "python392jvsc74a57bd0a85a77af9b308e3011deb23f6bfd06996ec7fa902cc6fae1bea1b653bbea1af5",
   "display_name": "Python 3.9.2 64-bit"
  },
  "metadata": {
   "interpreter": {
    "hash": "a85a77af9b308e3011deb23f6bfd06996ec7fa902cc6fae1bea1b653bbea1af5"
   }
  }
 },
 "nbformat": 4,
 "nbformat_minor": 2,
 "cells": [
  {
   "cell_type": "code",
   "execution_count": 1,
   "metadata": {},
   "outputs": [],
   "source": [
    "import pandas as pd"
   ]
  },
  {
   "source": [
    "# CSV 파일 로딩하기"
   ],
   "cell_type": "markdown",
   "metadata": {}
  },
  {
   "cell_type": "code",
   "execution_count": 10,
   "metadata": {},
   "outputs": [
    {
     "output_type": "execute_result",
     "data": {
      "text/plain": [
       "       지점 지점명          일시  평균기온(°C)  최저기온(°C)  최저기온 시각(hhmi)  최고기온(°C)  \\\n",
       "0     108  서울  2017-01-01       2.7      -1.6          540.0       6.9   \n",
       "1     108  서울  2017-01-02       5.0       1.8         2355.0       9.2   \n",
       "2     108  서울  2017-01-03       2.0      -2.3          731.0       7.7   \n",
       "3     108  서울  2017-01-04       3.9       1.0            1.0       8.9   \n",
       "4     108  서울  2017-01-05       3.8      -0.1          316.0       7.3   \n",
       "...   ...  ..         ...       ...       ...            ...       ...   \n",
       "7660  159  부산  2019-12-27       3.6       0.4          719.0       9.0   \n",
       "7661  159  부산  2019-12-28       4.1      -0.3          736.0       9.4   \n",
       "7662  159  부산  2019-12-29       6.5       2.6          403.0       9.5   \n",
       "7663  159  부산  2019-12-30       9.6       7.1         2359.0      14.0   \n",
       "7664  159  부산  2019-12-31       0.1      -2.5         2357.0       7.1   \n",
       "\n",
       "      최고기온 시각(hhmi)  강수 계속시간(hr)  10분 최다 강수량(mm)  ...  1.0m 지중온도(°C)  \\\n",
       "0            1419.0          NaN             NaN  ...            7.1   \n",
       "1            1355.0         2.08             NaN  ...            7.0   \n",
       "2            1444.0          NaN             NaN  ...            6.9   \n",
       "3            1519.0          NaN             NaN  ...            6.9   \n",
       "4            1444.0          NaN             NaN  ...            6.9   \n",
       "...             ...          ...             ...  ...            ...   \n",
       "7660         1437.0          NaN             NaN  ...           12.8   \n",
       "7661         1408.0          NaN             NaN  ...           12.8   \n",
       "7662         1438.0         8.00             NaN  ...           12.6   \n",
       "7663         1421.0         1.50             NaN  ...           12.6   \n",
       "7664            1.0          NaN             NaN  ...           12.3   \n",
       "\n",
       "      1.5m 지중온도(°C)  3.0m 지중온도(°C)  5.0m 지중온도(°C)  합계 대형증발량(mm)  합계 소형증발량(mm)  \\\n",
       "0              10.2           15.7           17.5           0.7           1.0   \n",
       "1              10.1           15.6           17.5           0.9           1.2   \n",
       "2               9.9           15.5           17.4           1.3           1.8   \n",
       "3               9.8           15.4           17.4           1.5           2.2   \n",
       "4               9.7           15.4           17.4           1.6           2.3   \n",
       "...             ...            ...            ...           ...           ...   \n",
       "7660           15.3           18.6           19.3           2.5           3.6   \n",
       "7661           15.1           18.6           19.4           2.2           3.2   \n",
       "7662           14.9           18.6           19.3           0.6           0.8   \n",
       "7663           14.9           18.5           19.2           1.8           2.6   \n",
       "7664           14.8           18.5           19.4           2.4           3.4   \n",
       "\n",
       "      9-9강수(mm)  안개 계속시간(hr)  합계 일조시간(hr)  합계 일사량(MJ/m2)  \n",
       "0           0.3          NaN          NaN            NaN  \n",
       "1           NaN          NaN          NaN            NaN  \n",
       "2           NaN          NaN          NaN            NaN  \n",
       "3           NaN          NaN          NaN            NaN  \n",
       "4           NaN          NaN          NaN            NaN  \n",
       "...         ...          ...          ...            ...  \n",
       "7660        NaN          NaN          9.2          12.64  \n",
       "7661        NaN          NaN          9.2          12.12  \n",
       "7662       12.8          NaN          0.0           2.66  \n",
       "7663        NaN          NaN          6.7           9.97  \n",
       "7664        NaN          NaN          9.3          13.09  \n",
       "\n",
       "[7665 rows x 62 columns]"
      ],
      "text/html": "<div>\n<style scoped>\n    .dataframe tbody tr th:only-of-type {\n        vertical-align: middle;\n    }\n\n    .dataframe tbody tr th {\n        vertical-align: top;\n    }\n\n    .dataframe thead th {\n        text-align: right;\n    }\n</style>\n<table border=\"1\" class=\"dataframe\">\n  <thead>\n    <tr style=\"text-align: right;\">\n      <th></th>\n      <th>지점</th>\n      <th>지점명</th>\n      <th>일시</th>\n      <th>평균기온(°C)</th>\n      <th>최저기온(°C)</th>\n      <th>최저기온 시각(hhmi)</th>\n      <th>최고기온(°C)</th>\n      <th>최고기온 시각(hhmi)</th>\n      <th>강수 계속시간(hr)</th>\n      <th>10분 최다 강수량(mm)</th>\n      <th>...</th>\n      <th>1.0m 지중온도(°C)</th>\n      <th>1.5m 지중온도(°C)</th>\n      <th>3.0m 지중온도(°C)</th>\n      <th>5.0m 지중온도(°C)</th>\n      <th>합계 대형증발량(mm)</th>\n      <th>합계 소형증발량(mm)</th>\n      <th>9-9강수(mm)</th>\n      <th>안개 계속시간(hr)</th>\n      <th>합계 일조시간(hr)</th>\n      <th>합계 일사량(MJ/m2)</th>\n    </tr>\n  </thead>\n  <tbody>\n    <tr>\n      <th>0</th>\n      <td>108</td>\n      <td>서울</td>\n      <td>2017-01-01</td>\n      <td>2.7</td>\n      <td>-1.6</td>\n      <td>540.0</td>\n      <td>6.9</td>\n      <td>1419.0</td>\n      <td>NaN</td>\n      <td>NaN</td>\n      <td>...</td>\n      <td>7.1</td>\n      <td>10.2</td>\n      <td>15.7</td>\n      <td>17.5</td>\n      <td>0.7</td>\n      <td>1.0</td>\n      <td>0.3</td>\n      <td>NaN</td>\n      <td>NaN</td>\n      <td>NaN</td>\n    </tr>\n    <tr>\n      <th>1</th>\n      <td>108</td>\n      <td>서울</td>\n      <td>2017-01-02</td>\n      <td>5.0</td>\n      <td>1.8</td>\n      <td>2355.0</td>\n      <td>9.2</td>\n      <td>1355.0</td>\n      <td>2.08</td>\n      <td>NaN</td>\n      <td>...</td>\n      <td>7.0</td>\n      <td>10.1</td>\n      <td>15.6</td>\n      <td>17.5</td>\n      <td>0.9</td>\n      <td>1.2</td>\n      <td>NaN</td>\n      <td>NaN</td>\n      <td>NaN</td>\n      <td>NaN</td>\n    </tr>\n    <tr>\n      <th>2</th>\n      <td>108</td>\n      <td>서울</td>\n      <td>2017-01-03</td>\n      <td>2.0</td>\n      <td>-2.3</td>\n      <td>731.0</td>\n      <td>7.7</td>\n      <td>1444.0</td>\n      <td>NaN</td>\n      <td>NaN</td>\n      <td>...</td>\n      <td>6.9</td>\n      <td>9.9</td>\n      <td>15.5</td>\n      <td>17.4</td>\n      <td>1.3</td>\n      <td>1.8</td>\n      <td>NaN</td>\n      <td>NaN</td>\n      <td>NaN</td>\n      <td>NaN</td>\n    </tr>\n    <tr>\n      <th>3</th>\n      <td>108</td>\n      <td>서울</td>\n      <td>2017-01-04</td>\n      <td>3.9</td>\n      <td>1.0</td>\n      <td>1.0</td>\n      <td>8.9</td>\n      <td>1519.0</td>\n      <td>NaN</td>\n      <td>NaN</td>\n      <td>...</td>\n      <td>6.9</td>\n      <td>9.8</td>\n      <td>15.4</td>\n      <td>17.4</td>\n      <td>1.5</td>\n      <td>2.2</td>\n      <td>NaN</td>\n      <td>NaN</td>\n      <td>NaN</td>\n      <td>NaN</td>\n    </tr>\n    <tr>\n      <th>4</th>\n      <td>108</td>\n      <td>서울</td>\n      <td>2017-01-05</td>\n      <td>3.8</td>\n      <td>-0.1</td>\n      <td>316.0</td>\n      <td>7.3</td>\n      <td>1444.0</td>\n      <td>NaN</td>\n      <td>NaN</td>\n      <td>...</td>\n      <td>6.9</td>\n      <td>9.7</td>\n      <td>15.4</td>\n      <td>17.4</td>\n      <td>1.6</td>\n      <td>2.3</td>\n      <td>NaN</td>\n      <td>NaN</td>\n      <td>NaN</td>\n      <td>NaN</td>\n    </tr>\n    <tr>\n      <th>...</th>\n      <td>...</td>\n      <td>...</td>\n      <td>...</td>\n      <td>...</td>\n      <td>...</td>\n      <td>...</td>\n      <td>...</td>\n      <td>...</td>\n      <td>...</td>\n      <td>...</td>\n      <td>...</td>\n      <td>...</td>\n      <td>...</td>\n      <td>...</td>\n      <td>...</td>\n      <td>...</td>\n      <td>...</td>\n      <td>...</td>\n      <td>...</td>\n      <td>...</td>\n      <td>...</td>\n    </tr>\n    <tr>\n      <th>7660</th>\n      <td>159</td>\n      <td>부산</td>\n      <td>2019-12-27</td>\n      <td>3.6</td>\n      <td>0.4</td>\n      <td>719.0</td>\n      <td>9.0</td>\n      <td>1437.0</td>\n      <td>NaN</td>\n      <td>NaN</td>\n      <td>...</td>\n      <td>12.8</td>\n      <td>15.3</td>\n      <td>18.6</td>\n      <td>19.3</td>\n      <td>2.5</td>\n      <td>3.6</td>\n      <td>NaN</td>\n      <td>NaN</td>\n      <td>9.2</td>\n      <td>12.64</td>\n    </tr>\n    <tr>\n      <th>7661</th>\n      <td>159</td>\n      <td>부산</td>\n      <td>2019-12-28</td>\n      <td>4.1</td>\n      <td>-0.3</td>\n      <td>736.0</td>\n      <td>9.4</td>\n      <td>1408.0</td>\n      <td>NaN</td>\n      <td>NaN</td>\n      <td>...</td>\n      <td>12.8</td>\n      <td>15.1</td>\n      <td>18.6</td>\n      <td>19.4</td>\n      <td>2.2</td>\n      <td>3.2</td>\n      <td>NaN</td>\n      <td>NaN</td>\n      <td>9.2</td>\n      <td>12.12</td>\n    </tr>\n    <tr>\n      <th>7662</th>\n      <td>159</td>\n      <td>부산</td>\n      <td>2019-12-29</td>\n      <td>6.5</td>\n      <td>2.6</td>\n      <td>403.0</td>\n      <td>9.5</td>\n      <td>1438.0</td>\n      <td>8.00</td>\n      <td>NaN</td>\n      <td>...</td>\n      <td>12.6</td>\n      <td>14.9</td>\n      <td>18.6</td>\n      <td>19.3</td>\n      <td>0.6</td>\n      <td>0.8</td>\n      <td>12.8</td>\n      <td>NaN</td>\n      <td>0.0</td>\n      <td>2.66</td>\n    </tr>\n    <tr>\n      <th>7663</th>\n      <td>159</td>\n      <td>부산</td>\n      <td>2019-12-30</td>\n      <td>9.6</td>\n      <td>7.1</td>\n      <td>2359.0</td>\n      <td>14.0</td>\n      <td>1421.0</td>\n      <td>1.50</td>\n      <td>NaN</td>\n      <td>...</td>\n      <td>12.6</td>\n      <td>14.9</td>\n      <td>18.5</td>\n      <td>19.2</td>\n      <td>1.8</td>\n      <td>2.6</td>\n      <td>NaN</td>\n      <td>NaN</td>\n      <td>6.7</td>\n      <td>9.97</td>\n    </tr>\n    <tr>\n      <th>7664</th>\n      <td>159</td>\n      <td>부산</td>\n      <td>2019-12-31</td>\n      <td>0.1</td>\n      <td>-2.5</td>\n      <td>2357.0</td>\n      <td>7.1</td>\n      <td>1.0</td>\n      <td>NaN</td>\n      <td>NaN</td>\n      <td>...</td>\n      <td>12.3</td>\n      <td>14.8</td>\n      <td>18.5</td>\n      <td>19.4</td>\n      <td>2.4</td>\n      <td>3.4</td>\n      <td>NaN</td>\n      <td>NaN</td>\n      <td>9.3</td>\n      <td>13.09</td>\n    </tr>\n  </tbody>\n</table>\n<p>7665 rows × 62 columns</p>\n</div>"
     },
     "metadata": {},
     "execution_count": 10
    }
   ],
   "source": [
    "df = pd.read_csv(\"D:\\\\GitRepository\\\\StudyPythonBigData\\\\resources\\\\bd_kma_weather.csv\")\n",
    "df"
   ]
  },
  {
   "cell_type": "code",
   "execution_count": 13,
   "metadata": {},
   "outputs": [
    {
     "output_type": "execute_result",
     "data": {
      "text/plain": [
       "    지점 지점명          일시  평균기온(°C)  최저기온(°C)  최저기온 시각(hhmi)  최고기온(°C)  \\\n",
       "0  108  서울  2017-01-01       2.7      -1.6          540.0       6.9   \n",
       "1  108  서울  2017-01-02       5.0       1.8         2355.0       9.2   \n",
       "2  108  서울  2017-01-03       2.0      -2.3          731.0       7.7   \n",
       "3  108  서울  2017-01-04       3.9       1.0            1.0       8.9   \n",
       "4  108  서울  2017-01-05       3.8      -0.1          316.0       7.3   \n",
       "\n",
       "   최고기온 시각(hhmi)  강수 계속시간(hr)  10분 최다 강수량(mm)  10분 최다강수량 시각(hhmi)  \\\n",
       "0         1419.0          NaN             NaN                 NaN   \n",
       "1         1355.0         2.08             NaN                 NaN   \n",
       "2         1444.0          NaN             NaN                 NaN   \n",
       "3         1519.0          NaN             NaN                 NaN   \n",
       "4         1444.0          NaN             NaN                 NaN   \n",
       "\n",
       "   1시간 최다강수량(mm)  1시간 최다 강수량 시각(hhmi)  일강수량(mm)  최대 순간 풍속(m/s)  \\\n",
       "0            NaN                  NaN       NaN            4.5   \n",
       "1            NaN                  NaN       0.3            7.0   \n",
       "2            NaN                  NaN       NaN            7.2   \n",
       "3            NaN                  NaN       NaN            6.5   \n",
       "4            NaN                  NaN       NaN            9.4   \n",
       "\n",
       "   최대 순간 풍속 풍향(16방위)  최대 순간풍속 시각(hhmi)  최대 풍속(m/s)  최대 풍속 풍향(16방위)  \\\n",
       "0               20.0            1050.0         2.8            50.0   \n",
       "1              230.0            1606.0         4.2           250.0   \n",
       "2              180.0            1438.0         4.0           250.0   \n",
       "3              290.0            1348.0         4.0           250.0   \n",
       "4               50.0            1423.0         5.6            50.0   \n",
       "\n",
       "   최대 풍속 시각(hhmi)  평균 풍속(m/s)  풍정합(100m)  평균 이슬점온도(°C)  최소 상대습도(%)  \\\n",
       "0          2059.0         1.5     1333.0          -1.2        59.0   \n",
       "1          1609.0         2.1     1843.0           1.3        57.0   \n",
       "2          1458.0         1.8     1575.0          -4.8        38.0   \n",
       "3          1429.0         1.7     1444.0          -4.8        31.0   \n",
       "4          1553.0         3.1     2693.0          -5.1        42.0   \n",
       "\n",
       "   최소 상대습도 시각(hhmi)  평균 상대습도(%)  평균 증기압(hPa)  평균 현지기압(hPa)  최고 해면기압(hPa)  \\\n",
       "0            1342.0        75.9          5.6        1017.1        1031.0   \n",
       "1            1355.0        77.8          6.8        1011.8        1024.9   \n",
       "2            1254.0        61.8          4.3        1013.4        1026.0   \n",
       "3            1503.0        55.0          4.3        1013.2        1025.3   \n",
       "4             943.0        52.3          4.2        1016.6        1028.6   \n",
       "\n",
       "   최고 해면기압 시각(hhmi)  최저 해면기압(hPa)  최저 해면기압 시각(hhmi)  평균 해면기압(hPa)  가조시간(hr)  \\\n",
       "0               928        1024.7            2315.0        1027.9       9.6   \n",
       "1                 1        1020.5            1410.0        1022.5       9.6   \n",
       "2               858        1022.8            1725.0        1024.2       9.7   \n",
       "3              2358        1022.5            1419.0        1024.0       9.7   \n",
       "4              2132        1025.3               1.0        1027.3       9.7   \n",
       "\n",
       "   합계 일조 시간(hr)  1시간 최다일사 시각(hhmi)  1시간 최다일사량(MJ/m2)  합계 일사(MJ/m2)  \\\n",
       "0           1.7             1300.0              0.90          4.38   \n",
       "1           2.7             1300.0              1.15          5.11   \n",
       "2           8.9             1200.0              1.53          8.51   \n",
       "3           8.6             1200.0              1.48          8.68   \n",
       "4           0.0             1300.0              0.70          4.27   \n",
       "\n",
       "   일 최심신적설(cm)  일 최심신적설 시각(hhmi)  일 최심적설(cm)  일 최심적설 시각(hhmi)  합계 3시간 신적설(cm)  \\\n",
       "0          NaN               NaN         NaN              NaN             NaN   \n",
       "1          NaN               NaN         NaN              NaN             NaN   \n",
       "2          NaN               NaN         NaN              NaN             NaN   \n",
       "3          NaN               NaN         NaN              NaN             NaN   \n",
       "4          NaN               NaN         NaN              NaN             NaN   \n",
       "\n",
       "   평균 전운량(1/10)  평균 중하층운량(1/10)  평균 지면온도(°C)  최저 초상온도(°C)  평균 5cm 지중온도(°C)  \\\n",
       "0           7.0             7.0          0.9         -5.1              0.5   \n",
       "1           7.6             6.9          4.8         -1.6              3.9   \n",
       "2           1.1             1.1          1.5         -6.8              2.6   \n",
       "3           2.6             2.1          3.0         -4.4              3.4   \n",
       "4           8.4             1.3          2.4         -5.8              2.7   \n",
       "\n",
       "   평균 10cm 지중온도(°C)  평균 20cm 지중온도(°C)  평균 30cm 지중온도(°C)  0.5m 지중온도(°C)  \\\n",
       "0               0.6               1.8               2.7            3.8   \n",
       "1               3.0               3.0               3.2            3.8   \n",
       "2               3.0               3.5               4.0            4.5   \n",
       "3               3.3               3.6               4.0            4.5   \n",
       "4               2.8               3.5               4.1            4.7   \n",
       "\n",
       "   1.0m 지중온도(°C)  1.5m 지중온도(°C)  3.0m 지중온도(°C)  5.0m 지중온도(°C)  합계 대형증발량(mm)  \\\n",
       "0            7.1           10.2           15.7           17.5           0.7   \n",
       "1            7.0           10.1           15.6           17.5           0.9   \n",
       "2            6.9            9.9           15.5           17.4           1.3   \n",
       "3            6.9            9.8           15.4           17.4           1.5   \n",
       "4            6.9            9.7           15.4           17.4           1.6   \n",
       "\n",
       "   합계 소형증발량(mm)  9-9강수(mm)  안개 계속시간(hr)  합계 일조시간(hr)  합계 일사량(MJ/m2)  \n",
       "0           1.0        0.3          NaN          NaN            NaN  \n",
       "1           1.2        NaN          NaN          NaN            NaN  \n",
       "2           1.8        NaN          NaN          NaN            NaN  \n",
       "3           2.2        NaN          NaN          NaN            NaN  \n",
       "4           2.3        NaN          NaN          NaN            NaN  "
      ],
      "text/html": "<div>\n<style scoped>\n    .dataframe tbody tr th:only-of-type {\n        vertical-align: middle;\n    }\n\n    .dataframe tbody tr th {\n        vertical-align: top;\n    }\n\n    .dataframe thead th {\n        text-align: right;\n    }\n</style>\n<table border=\"1\" class=\"dataframe\">\n  <thead>\n    <tr style=\"text-align: right;\">\n      <th></th>\n      <th>지점</th>\n      <th>지점명</th>\n      <th>일시</th>\n      <th>평균기온(°C)</th>\n      <th>최저기온(°C)</th>\n      <th>최저기온 시각(hhmi)</th>\n      <th>최고기온(°C)</th>\n      <th>최고기온 시각(hhmi)</th>\n      <th>강수 계속시간(hr)</th>\n      <th>10분 최다 강수량(mm)</th>\n      <th>10분 최다강수량 시각(hhmi)</th>\n      <th>1시간 최다강수량(mm)</th>\n      <th>1시간 최다 강수량 시각(hhmi)</th>\n      <th>일강수량(mm)</th>\n      <th>최대 순간 풍속(m/s)</th>\n      <th>최대 순간 풍속 풍향(16방위)</th>\n      <th>최대 순간풍속 시각(hhmi)</th>\n      <th>최대 풍속(m/s)</th>\n      <th>최대 풍속 풍향(16방위)</th>\n      <th>최대 풍속 시각(hhmi)</th>\n      <th>평균 풍속(m/s)</th>\n      <th>풍정합(100m)</th>\n      <th>평균 이슬점온도(°C)</th>\n      <th>최소 상대습도(%)</th>\n      <th>최소 상대습도 시각(hhmi)</th>\n      <th>평균 상대습도(%)</th>\n      <th>평균 증기압(hPa)</th>\n      <th>평균 현지기압(hPa)</th>\n      <th>최고 해면기압(hPa)</th>\n      <th>최고 해면기압 시각(hhmi)</th>\n      <th>최저 해면기압(hPa)</th>\n      <th>최저 해면기압 시각(hhmi)</th>\n      <th>평균 해면기압(hPa)</th>\n      <th>가조시간(hr)</th>\n      <th>합계 일조 시간(hr)</th>\n      <th>1시간 최다일사 시각(hhmi)</th>\n      <th>1시간 최다일사량(MJ/m2)</th>\n      <th>합계 일사(MJ/m2)</th>\n      <th>일 최심신적설(cm)</th>\n      <th>일 최심신적설 시각(hhmi)</th>\n      <th>일 최심적설(cm)</th>\n      <th>일 최심적설 시각(hhmi)</th>\n      <th>합계 3시간 신적설(cm)</th>\n      <th>평균 전운량(1/10)</th>\n      <th>평균 중하층운량(1/10)</th>\n      <th>평균 지면온도(°C)</th>\n      <th>최저 초상온도(°C)</th>\n      <th>평균 5cm 지중온도(°C)</th>\n      <th>평균 10cm 지중온도(°C)</th>\n      <th>평균 20cm 지중온도(°C)</th>\n      <th>평균 30cm 지중온도(°C)</th>\n      <th>0.5m 지중온도(°C)</th>\n      <th>1.0m 지중온도(°C)</th>\n      <th>1.5m 지중온도(°C)</th>\n      <th>3.0m 지중온도(°C)</th>\n      <th>5.0m 지중온도(°C)</th>\n      <th>합계 대형증발량(mm)</th>\n      <th>합계 소형증발량(mm)</th>\n      <th>9-9강수(mm)</th>\n      <th>안개 계속시간(hr)</th>\n      <th>합계 일조시간(hr)</th>\n      <th>합계 일사량(MJ/m2)</th>\n    </tr>\n  </thead>\n  <tbody>\n    <tr>\n      <th>0</th>\n      <td>108</td>\n      <td>서울</td>\n      <td>2017-01-01</td>\n      <td>2.7</td>\n      <td>-1.6</td>\n      <td>540.0</td>\n      <td>6.9</td>\n      <td>1419.0</td>\n      <td>NaN</td>\n      <td>NaN</td>\n      <td>NaN</td>\n      <td>NaN</td>\n      <td>NaN</td>\n      <td>NaN</td>\n      <td>4.5</td>\n      <td>20.0</td>\n      <td>1050.0</td>\n      <td>2.8</td>\n      <td>50.0</td>\n      <td>2059.0</td>\n      <td>1.5</td>\n      <td>1333.0</td>\n      <td>-1.2</td>\n      <td>59.0</td>\n      <td>1342.0</td>\n      <td>75.9</td>\n      <td>5.6</td>\n      <td>1017.1</td>\n      <td>1031.0</td>\n      <td>928</td>\n      <td>1024.7</td>\n      <td>2315.0</td>\n      <td>1027.9</td>\n      <td>9.6</td>\n      <td>1.7</td>\n      <td>1300.0</td>\n      <td>0.90</td>\n      <td>4.38</td>\n      <td>NaN</td>\n      <td>NaN</td>\n      <td>NaN</td>\n      <td>NaN</td>\n      <td>NaN</td>\n      <td>7.0</td>\n      <td>7.0</td>\n      <td>0.9</td>\n      <td>-5.1</td>\n      <td>0.5</td>\n      <td>0.6</td>\n      <td>1.8</td>\n      <td>2.7</td>\n      <td>3.8</td>\n      <td>7.1</td>\n      <td>10.2</td>\n      <td>15.7</td>\n      <td>17.5</td>\n      <td>0.7</td>\n      <td>1.0</td>\n      <td>0.3</td>\n      <td>NaN</td>\n      <td>NaN</td>\n      <td>NaN</td>\n    </tr>\n    <tr>\n      <th>1</th>\n      <td>108</td>\n      <td>서울</td>\n      <td>2017-01-02</td>\n      <td>5.0</td>\n      <td>1.8</td>\n      <td>2355.0</td>\n      <td>9.2</td>\n      <td>1355.0</td>\n      <td>2.08</td>\n      <td>NaN</td>\n      <td>NaN</td>\n      <td>NaN</td>\n      <td>NaN</td>\n      <td>0.3</td>\n      <td>7.0</td>\n      <td>230.0</td>\n      <td>1606.0</td>\n      <td>4.2</td>\n      <td>250.0</td>\n      <td>1609.0</td>\n      <td>2.1</td>\n      <td>1843.0</td>\n      <td>1.3</td>\n      <td>57.0</td>\n      <td>1355.0</td>\n      <td>77.8</td>\n      <td>6.8</td>\n      <td>1011.8</td>\n      <td>1024.9</td>\n      <td>1</td>\n      <td>1020.5</td>\n      <td>1410.0</td>\n      <td>1022.5</td>\n      <td>9.6</td>\n      <td>2.7</td>\n      <td>1300.0</td>\n      <td>1.15</td>\n      <td>5.11</td>\n      <td>NaN</td>\n      <td>NaN</td>\n      <td>NaN</td>\n      <td>NaN</td>\n      <td>NaN</td>\n      <td>7.6</td>\n      <td>6.9</td>\n      <td>4.8</td>\n      <td>-1.6</td>\n      <td>3.9</td>\n      <td>3.0</td>\n      <td>3.0</td>\n      <td>3.2</td>\n      <td>3.8</td>\n      <td>7.0</td>\n      <td>10.1</td>\n      <td>15.6</td>\n      <td>17.5</td>\n      <td>0.9</td>\n      <td>1.2</td>\n      <td>NaN</td>\n      <td>NaN</td>\n      <td>NaN</td>\n      <td>NaN</td>\n    </tr>\n    <tr>\n      <th>2</th>\n      <td>108</td>\n      <td>서울</td>\n      <td>2017-01-03</td>\n      <td>2.0</td>\n      <td>-2.3</td>\n      <td>731.0</td>\n      <td>7.7</td>\n      <td>1444.0</td>\n      <td>NaN</td>\n      <td>NaN</td>\n      <td>NaN</td>\n      <td>NaN</td>\n      <td>NaN</td>\n      <td>NaN</td>\n      <td>7.2</td>\n      <td>180.0</td>\n      <td>1438.0</td>\n      <td>4.0</td>\n      <td>250.0</td>\n      <td>1458.0</td>\n      <td>1.8</td>\n      <td>1575.0</td>\n      <td>-4.8</td>\n      <td>38.0</td>\n      <td>1254.0</td>\n      <td>61.8</td>\n      <td>4.3</td>\n      <td>1013.4</td>\n      <td>1026.0</td>\n      <td>858</td>\n      <td>1022.8</td>\n      <td>1725.0</td>\n      <td>1024.2</td>\n      <td>9.7</td>\n      <td>8.9</td>\n      <td>1200.0</td>\n      <td>1.53</td>\n      <td>8.51</td>\n      <td>NaN</td>\n      <td>NaN</td>\n      <td>NaN</td>\n      <td>NaN</td>\n      <td>NaN</td>\n      <td>1.1</td>\n      <td>1.1</td>\n      <td>1.5</td>\n      <td>-6.8</td>\n      <td>2.6</td>\n      <td>3.0</td>\n      <td>3.5</td>\n      <td>4.0</td>\n      <td>4.5</td>\n      <td>6.9</td>\n      <td>9.9</td>\n      <td>15.5</td>\n      <td>17.4</td>\n      <td>1.3</td>\n      <td>1.8</td>\n      <td>NaN</td>\n      <td>NaN</td>\n      <td>NaN</td>\n      <td>NaN</td>\n    </tr>\n    <tr>\n      <th>3</th>\n      <td>108</td>\n      <td>서울</td>\n      <td>2017-01-04</td>\n      <td>3.9</td>\n      <td>1.0</td>\n      <td>1.0</td>\n      <td>8.9</td>\n      <td>1519.0</td>\n      <td>NaN</td>\n      <td>NaN</td>\n      <td>NaN</td>\n      <td>NaN</td>\n      <td>NaN</td>\n      <td>NaN</td>\n      <td>6.5</td>\n      <td>290.0</td>\n      <td>1348.0</td>\n      <td>4.0</td>\n      <td>250.0</td>\n      <td>1429.0</td>\n      <td>1.7</td>\n      <td>1444.0</td>\n      <td>-4.8</td>\n      <td>31.0</td>\n      <td>1503.0</td>\n      <td>55.0</td>\n      <td>4.3</td>\n      <td>1013.2</td>\n      <td>1025.3</td>\n      <td>2358</td>\n      <td>1022.5</td>\n      <td>1419.0</td>\n      <td>1024.0</td>\n      <td>9.7</td>\n      <td>8.6</td>\n      <td>1200.0</td>\n      <td>1.48</td>\n      <td>8.68</td>\n      <td>NaN</td>\n      <td>NaN</td>\n      <td>NaN</td>\n      <td>NaN</td>\n      <td>NaN</td>\n      <td>2.6</td>\n      <td>2.1</td>\n      <td>3.0</td>\n      <td>-4.4</td>\n      <td>3.4</td>\n      <td>3.3</td>\n      <td>3.6</td>\n      <td>4.0</td>\n      <td>4.5</td>\n      <td>6.9</td>\n      <td>9.8</td>\n      <td>15.4</td>\n      <td>17.4</td>\n      <td>1.5</td>\n      <td>2.2</td>\n      <td>NaN</td>\n      <td>NaN</td>\n      <td>NaN</td>\n      <td>NaN</td>\n    </tr>\n    <tr>\n      <th>4</th>\n      <td>108</td>\n      <td>서울</td>\n      <td>2017-01-05</td>\n      <td>3.8</td>\n      <td>-0.1</td>\n      <td>316.0</td>\n      <td>7.3</td>\n      <td>1444.0</td>\n      <td>NaN</td>\n      <td>NaN</td>\n      <td>NaN</td>\n      <td>NaN</td>\n      <td>NaN</td>\n      <td>NaN</td>\n      <td>9.4</td>\n      <td>50.0</td>\n      <td>1423.0</td>\n      <td>5.6</td>\n      <td>50.0</td>\n      <td>1553.0</td>\n      <td>3.1</td>\n      <td>2693.0</td>\n      <td>-5.1</td>\n      <td>42.0</td>\n      <td>943.0</td>\n      <td>52.3</td>\n      <td>4.2</td>\n      <td>1016.6</td>\n      <td>1028.6</td>\n      <td>2132</td>\n      <td>1025.3</td>\n      <td>1.0</td>\n      <td>1027.3</td>\n      <td>9.7</td>\n      <td>0.0</td>\n      <td>1300.0</td>\n      <td>0.70</td>\n      <td>4.27</td>\n      <td>NaN</td>\n      <td>NaN</td>\n      <td>NaN</td>\n      <td>NaN</td>\n      <td>NaN</td>\n      <td>8.4</td>\n      <td>1.3</td>\n      <td>2.4</td>\n      <td>-5.8</td>\n      <td>2.7</td>\n      <td>2.8</td>\n      <td>3.5</td>\n      <td>4.1</td>\n      <td>4.7</td>\n      <td>6.9</td>\n      <td>9.7</td>\n      <td>15.4</td>\n      <td>17.4</td>\n      <td>1.6</td>\n      <td>2.3</td>\n      <td>NaN</td>\n      <td>NaN</td>\n      <td>NaN</td>\n      <td>NaN</td>\n    </tr>\n  </tbody>\n</table>\n</div>"
     },
     "metadata": {},
     "execution_count": 13
    }
   ],
   "source": [
    "pd.options.display.max_columns = 62\n",
    "df.head() # 처음 5개 출력"
   ]
  },
  {
   "cell_type": "code",
   "execution_count": 14,
   "metadata": {},
   "outputs": [
    {
     "output_type": "execute_result",
     "data": {
      "text/plain": [
       "       지점 지점명          일시  평균기온(°C)  최저기온(°C)  최저기온 시각(hhmi)  최고기온(°C)  \\\n",
       "7662  159  부산  2019-12-29       6.5       2.6          403.0       9.5   \n",
       "7663  159  부산  2019-12-30       9.6       7.1         2359.0      14.0   \n",
       "7664  159  부산  2019-12-31       0.1      -2.5         2357.0       7.1   \n",
       "\n",
       "      최고기온 시각(hhmi)  강수 계속시간(hr)  10분 최다 강수량(mm)  10분 최다강수량 시각(hhmi)  \\\n",
       "7662         1438.0          8.0             NaN                 NaN   \n",
       "7663         1421.0          1.5             NaN                 NaN   \n",
       "7664            1.0          NaN             NaN                 NaN   \n",
       "\n",
       "      1시간 최다강수량(mm)  1시간 최다 강수량 시각(hhmi)  일강수량(mm)  최대 순간 풍속(m/s)  \\\n",
       "7662            NaN                  NaN      11.4            7.1   \n",
       "7663            NaN                  NaN       1.4           12.3   \n",
       "7664            NaN                  NaN       NaN           14.2   \n",
       "\n",
       "      최대 순간 풍속 풍향(16방위)  최대 순간풍속 시각(hhmi)  최대 풍속(m/s)  최대 풍속 풍향(16방위)  \\\n",
       "7662               50.0            1825.0         3.8            50.0   \n",
       "7663              270.0            2343.0         6.5           290.0   \n",
       "7664              270.0             454.0         6.3           290.0   \n",
       "\n",
       "      최대 풍속 시각(hhmi)  평균 풍속(m/s)  풍정합(100m)  평균 이슬점온도(°C)  최소 상대습도(%)  \\\n",
       "7662          1839.0         1.3     1103.0           0.0        35.0   \n",
       "7663          2330.0         2.2     1890.0           6.3        59.0   \n",
       "7664          1257.0         3.0     2605.0         -16.8        17.0   \n",
       "\n",
       "      최소 상대습도 시각(hhmi)  평균 상대습도(%)  평균 증기압(hPa)  평균 현지기압(hPa)  최고 해면기압(hPa)  \\\n",
       "7662             132.0        66.5          6.7        1017.3        1029.6   \n",
       "7663            2357.0        81.5          9.7        1012.0        1022.1   \n",
       "7664            1601.0        28.3          1.8        1020.6        1032.6   \n",
       "\n",
       "      최고 해면기압 시각(hhmi)  최저 해면기압(hPa)  최저 해면기압 시각(hhmi)  평균 해면기압(hPa)  \\\n",
       "7662                11        1021.0            2357.0        1026.0   \n",
       "7663              1002        1018.7            1331.0        1020.4   \n",
       "7664              1009        1020.5              36.0        1029.4   \n",
       "\n",
       "      가조시간(hr)  합계 일조 시간(hr)  1시간 최다일사 시각(hhmi)  1시간 최다일사량(MJ/m2)  \\\n",
       "7662       9.8           NaN             1400.0              0.46   \n",
       "7663       9.8           NaN             1200.0              1.96   \n",
       "7664       9.8           NaN             1200.0              2.18   \n",
       "\n",
       "      합계 일사(MJ/m2)  일 최심신적설(cm)  일 최심신적설 시각(hhmi)  일 최심적설(cm)  \\\n",
       "7662           NaN          NaN               NaN         NaN   \n",
       "7663           NaN          NaN               NaN         NaN   \n",
       "7664           NaN          NaN               NaN         NaN   \n",
       "\n",
       "      일 최심적설 시각(hhmi)  합계 3시간 신적설(cm)  평균 전운량(1/10)  평균 중하층운량(1/10)  \\\n",
       "7662              NaN             NaN           8.6             8.0   \n",
       "7663              NaN             NaN           5.3             4.3   \n",
       "7664              NaN             NaN           0.0             0.0   \n",
       "\n",
       "      평균 지면온도(°C)  최저 초상온도(°C)  평균 5cm 지중온도(°C)  평균 10cm 지중온도(°C)  \\\n",
       "7662          5.1         -7.6              6.1               6.2   \n",
       "7663          9.3          3.2              9.0               8.6   \n",
       "7664          1.4         -7.7              6.6               6.8   \n",
       "\n",
       "      평균 20cm 지중온도(°C)  평균 30cm 지중온도(°C)  0.5m 지중온도(°C)  1.0m 지중온도(°C)  \\\n",
       "7662               7.3               8.0            8.9           12.6   \n",
       "7663               8.6               8.6            9.0           12.6   \n",
       "7664               8.1               8.8            9.3           12.3   \n",
       "\n",
       "      1.5m 지중온도(°C)  3.0m 지중온도(°C)  5.0m 지중온도(°C)  합계 대형증발량(mm)  합계 소형증발량(mm)  \\\n",
       "7662           14.9           18.6           19.3           0.6           0.8   \n",
       "7663           14.9           18.5           19.2           1.8           2.6   \n",
       "7664           14.8           18.5           19.4           2.4           3.4   \n",
       "\n",
       "      9-9강수(mm)  안개 계속시간(hr)  합계 일조시간(hr)  합계 일사량(MJ/m2)  \n",
       "7662       12.8          NaN          0.0           2.66  \n",
       "7663        NaN          NaN          6.7           9.97  \n",
       "7664        NaN          NaN          9.3          13.09  "
      ],
      "text/html": "<div>\n<style scoped>\n    .dataframe tbody tr th:only-of-type {\n        vertical-align: middle;\n    }\n\n    .dataframe tbody tr th {\n        vertical-align: top;\n    }\n\n    .dataframe thead th {\n        text-align: right;\n    }\n</style>\n<table border=\"1\" class=\"dataframe\">\n  <thead>\n    <tr style=\"text-align: right;\">\n      <th></th>\n      <th>지점</th>\n      <th>지점명</th>\n      <th>일시</th>\n      <th>평균기온(°C)</th>\n      <th>최저기온(°C)</th>\n      <th>최저기온 시각(hhmi)</th>\n      <th>최고기온(°C)</th>\n      <th>최고기온 시각(hhmi)</th>\n      <th>강수 계속시간(hr)</th>\n      <th>10분 최다 강수량(mm)</th>\n      <th>10분 최다강수량 시각(hhmi)</th>\n      <th>1시간 최다강수량(mm)</th>\n      <th>1시간 최다 강수량 시각(hhmi)</th>\n      <th>일강수량(mm)</th>\n      <th>최대 순간 풍속(m/s)</th>\n      <th>최대 순간 풍속 풍향(16방위)</th>\n      <th>최대 순간풍속 시각(hhmi)</th>\n      <th>최대 풍속(m/s)</th>\n      <th>최대 풍속 풍향(16방위)</th>\n      <th>최대 풍속 시각(hhmi)</th>\n      <th>평균 풍속(m/s)</th>\n      <th>풍정합(100m)</th>\n      <th>평균 이슬점온도(°C)</th>\n      <th>최소 상대습도(%)</th>\n      <th>최소 상대습도 시각(hhmi)</th>\n      <th>평균 상대습도(%)</th>\n      <th>평균 증기압(hPa)</th>\n      <th>평균 현지기압(hPa)</th>\n      <th>최고 해면기압(hPa)</th>\n      <th>최고 해면기압 시각(hhmi)</th>\n      <th>최저 해면기압(hPa)</th>\n      <th>최저 해면기압 시각(hhmi)</th>\n      <th>평균 해면기압(hPa)</th>\n      <th>가조시간(hr)</th>\n      <th>합계 일조 시간(hr)</th>\n      <th>1시간 최다일사 시각(hhmi)</th>\n      <th>1시간 최다일사량(MJ/m2)</th>\n      <th>합계 일사(MJ/m2)</th>\n      <th>일 최심신적설(cm)</th>\n      <th>일 최심신적설 시각(hhmi)</th>\n      <th>일 최심적설(cm)</th>\n      <th>일 최심적설 시각(hhmi)</th>\n      <th>합계 3시간 신적설(cm)</th>\n      <th>평균 전운량(1/10)</th>\n      <th>평균 중하층운량(1/10)</th>\n      <th>평균 지면온도(°C)</th>\n      <th>최저 초상온도(°C)</th>\n      <th>평균 5cm 지중온도(°C)</th>\n      <th>평균 10cm 지중온도(°C)</th>\n      <th>평균 20cm 지중온도(°C)</th>\n      <th>평균 30cm 지중온도(°C)</th>\n      <th>0.5m 지중온도(°C)</th>\n      <th>1.0m 지중온도(°C)</th>\n      <th>1.5m 지중온도(°C)</th>\n      <th>3.0m 지중온도(°C)</th>\n      <th>5.0m 지중온도(°C)</th>\n      <th>합계 대형증발량(mm)</th>\n      <th>합계 소형증발량(mm)</th>\n      <th>9-9강수(mm)</th>\n      <th>안개 계속시간(hr)</th>\n      <th>합계 일조시간(hr)</th>\n      <th>합계 일사량(MJ/m2)</th>\n    </tr>\n  </thead>\n  <tbody>\n    <tr>\n      <th>7662</th>\n      <td>159</td>\n      <td>부산</td>\n      <td>2019-12-29</td>\n      <td>6.5</td>\n      <td>2.6</td>\n      <td>403.0</td>\n      <td>9.5</td>\n      <td>1438.0</td>\n      <td>8.0</td>\n      <td>NaN</td>\n      <td>NaN</td>\n      <td>NaN</td>\n      <td>NaN</td>\n      <td>11.4</td>\n      <td>7.1</td>\n      <td>50.0</td>\n      <td>1825.0</td>\n      <td>3.8</td>\n      <td>50.0</td>\n      <td>1839.0</td>\n      <td>1.3</td>\n      <td>1103.0</td>\n      <td>0.0</td>\n      <td>35.0</td>\n      <td>132.0</td>\n      <td>66.5</td>\n      <td>6.7</td>\n      <td>1017.3</td>\n      <td>1029.6</td>\n      <td>11</td>\n      <td>1021.0</td>\n      <td>2357.0</td>\n      <td>1026.0</td>\n      <td>9.8</td>\n      <td>NaN</td>\n      <td>1400.0</td>\n      <td>0.46</td>\n      <td>NaN</td>\n      <td>NaN</td>\n      <td>NaN</td>\n      <td>NaN</td>\n      <td>NaN</td>\n      <td>NaN</td>\n      <td>8.6</td>\n      <td>8.0</td>\n      <td>5.1</td>\n      <td>-7.6</td>\n      <td>6.1</td>\n      <td>6.2</td>\n      <td>7.3</td>\n      <td>8.0</td>\n      <td>8.9</td>\n      <td>12.6</td>\n      <td>14.9</td>\n      <td>18.6</td>\n      <td>19.3</td>\n      <td>0.6</td>\n      <td>0.8</td>\n      <td>12.8</td>\n      <td>NaN</td>\n      <td>0.0</td>\n      <td>2.66</td>\n    </tr>\n    <tr>\n      <th>7663</th>\n      <td>159</td>\n      <td>부산</td>\n      <td>2019-12-30</td>\n      <td>9.6</td>\n      <td>7.1</td>\n      <td>2359.0</td>\n      <td>14.0</td>\n      <td>1421.0</td>\n      <td>1.5</td>\n      <td>NaN</td>\n      <td>NaN</td>\n      <td>NaN</td>\n      <td>NaN</td>\n      <td>1.4</td>\n      <td>12.3</td>\n      <td>270.0</td>\n      <td>2343.0</td>\n      <td>6.5</td>\n      <td>290.0</td>\n      <td>2330.0</td>\n      <td>2.2</td>\n      <td>1890.0</td>\n      <td>6.3</td>\n      <td>59.0</td>\n      <td>2357.0</td>\n      <td>81.5</td>\n      <td>9.7</td>\n      <td>1012.0</td>\n      <td>1022.1</td>\n      <td>1002</td>\n      <td>1018.7</td>\n      <td>1331.0</td>\n      <td>1020.4</td>\n      <td>9.8</td>\n      <td>NaN</td>\n      <td>1200.0</td>\n      <td>1.96</td>\n      <td>NaN</td>\n      <td>NaN</td>\n      <td>NaN</td>\n      <td>NaN</td>\n      <td>NaN</td>\n      <td>NaN</td>\n      <td>5.3</td>\n      <td>4.3</td>\n      <td>9.3</td>\n      <td>3.2</td>\n      <td>9.0</td>\n      <td>8.6</td>\n      <td>8.6</td>\n      <td>8.6</td>\n      <td>9.0</td>\n      <td>12.6</td>\n      <td>14.9</td>\n      <td>18.5</td>\n      <td>19.2</td>\n      <td>1.8</td>\n      <td>2.6</td>\n      <td>NaN</td>\n      <td>NaN</td>\n      <td>6.7</td>\n      <td>9.97</td>\n    </tr>\n    <tr>\n      <th>7664</th>\n      <td>159</td>\n      <td>부산</td>\n      <td>2019-12-31</td>\n      <td>0.1</td>\n      <td>-2.5</td>\n      <td>2357.0</td>\n      <td>7.1</td>\n      <td>1.0</td>\n      <td>NaN</td>\n      <td>NaN</td>\n      <td>NaN</td>\n      <td>NaN</td>\n      <td>NaN</td>\n      <td>NaN</td>\n      <td>14.2</td>\n      <td>270.0</td>\n      <td>454.0</td>\n      <td>6.3</td>\n      <td>290.0</td>\n      <td>1257.0</td>\n      <td>3.0</td>\n      <td>2605.0</td>\n      <td>-16.8</td>\n      <td>17.0</td>\n      <td>1601.0</td>\n      <td>28.3</td>\n      <td>1.8</td>\n      <td>1020.6</td>\n      <td>1032.6</td>\n      <td>1009</td>\n      <td>1020.5</td>\n      <td>36.0</td>\n      <td>1029.4</td>\n      <td>9.8</td>\n      <td>NaN</td>\n      <td>1200.0</td>\n      <td>2.18</td>\n      <td>NaN</td>\n      <td>NaN</td>\n      <td>NaN</td>\n      <td>NaN</td>\n      <td>NaN</td>\n      <td>NaN</td>\n      <td>0.0</td>\n      <td>0.0</td>\n      <td>1.4</td>\n      <td>-7.7</td>\n      <td>6.6</td>\n      <td>6.8</td>\n      <td>8.1</td>\n      <td>8.8</td>\n      <td>9.3</td>\n      <td>12.3</td>\n      <td>14.8</td>\n      <td>18.5</td>\n      <td>19.4</td>\n      <td>2.4</td>\n      <td>3.4</td>\n      <td>NaN</td>\n      <td>NaN</td>\n      <td>9.3</td>\n      <td>13.09</td>\n    </tr>\n  </tbody>\n</table>\n</div>"
     },
     "metadata": {},
     "execution_count": 14
    }
   ],
   "source": [
    "df.tail(3) # 마지막 3개 출력"
   ]
  },
  {
   "source": [
    "# 데이터프레임과 시리즈"
   ],
   "cell_type": "markdown",
   "metadata": {}
  },
  {
   "cell_type": "code",
   "execution_count": 15,
   "metadata": {},
   "outputs": [
    {
     "output_type": "execute_result",
     "data": {
      "text/plain": [
       "pandas.core.frame.DataFrame"
      ]
     },
     "metadata": {},
     "execution_count": 15
    }
   ],
   "source": [
    "type(df) # 데이터프레임 타입 확인"
   ]
  },
  {
   "cell_type": "code",
   "execution_count": 16,
   "metadata": {},
   "outputs": [
    {
     "output_type": "execute_result",
     "data": {
      "text/plain": [
       "0       2.7\n",
       "1       5.0\n",
       "2       2.0\n",
       "3       3.9\n",
       "4       3.8\n",
       "       ... \n",
       "7660    3.6\n",
       "7661    4.1\n",
       "7662    6.5\n",
       "7663    9.6\n",
       "7664    0.1\n",
       "Name: 평균기온(°C), Length: 7665, dtype: float64"
      ]
     },
     "metadata": {},
     "execution_count": 16
    }
   ],
   "source": [
    "df[\"평균기온(°C)\"]"
   ]
  },
  {
   "cell_type": "code",
   "execution_count": 18,
   "metadata": {},
   "outputs": [
    {
     "output_type": "execute_result",
     "data": {
      "text/plain": [
       "pandas.core.series.Series"
      ]
     },
     "metadata": {},
     "execution_count": 18
    }
   ],
   "source": [
    "type(df[\"평균기온(°C)\"]) # 시리즈 타입 확인"
   ]
  },
  {
   "cell_type": "code",
   "execution_count": 19,
   "metadata": {},
   "outputs": [
    {
     "output_type": "execute_result",
     "data": {
      "text/plain": [
       "0    2.7\n",
       "1    5.0\n",
       "2    2.0\n",
       "3    3.9\n",
       "4    3.8\n",
       "Name: 평균기온(°C), dtype: float64"
      ]
     },
     "metadata": {},
     "execution_count": 19
    }
   ],
   "source": [
    "# 시리즈 - 1차원 벡터\n",
    "\n",
    "df[\"평균기온(°C)\"].head()"
   ]
  },
  {
   "cell_type": "code",
   "execution_count": 20,
   "metadata": {},
   "outputs": [
    {
     "output_type": "execute_result",
     "data": {
      "text/plain": [
       "   평균기온(°C)\n",
       "0       2.7\n",
       "1       5.0\n",
       "2       2.0\n",
       "3       3.9\n",
       "4       3.8"
      ],
      "text/html": "<div>\n<style scoped>\n    .dataframe tbody tr th:only-of-type {\n        vertical-align: middle;\n    }\n\n    .dataframe tbody tr th {\n        vertical-align: top;\n    }\n\n    .dataframe thead th {\n        text-align: right;\n    }\n</style>\n<table border=\"1\" class=\"dataframe\">\n  <thead>\n    <tr style=\"text-align: right;\">\n      <th></th>\n      <th>평균기온(°C)</th>\n    </tr>\n  </thead>\n  <tbody>\n    <tr>\n      <th>0</th>\n      <td>2.7</td>\n    </tr>\n    <tr>\n      <th>1</th>\n      <td>5.0</td>\n    </tr>\n    <tr>\n      <th>2</th>\n      <td>2.0</td>\n    </tr>\n    <tr>\n      <th>3</th>\n      <td>3.9</td>\n    </tr>\n    <tr>\n      <th>4</th>\n      <td>3.8</td>\n    </tr>\n  </tbody>\n</table>\n</div>"
     },
     "metadata": {},
     "execution_count": 20
    }
   ],
   "source": [
    "\n",
    "# 데이터 프레임 - 2차원 행렬\n",
    "\n",
    "df[[\"평균기온(°C)\"]].head()"
   ]
  },
  {
   "source": [
    "# 특정 조건 데이터 가져오기"
   ],
   "cell_type": "markdown",
   "metadata": {}
  },
  {
   "cell_type": "code",
   "execution_count": 21,
   "metadata": {},
   "outputs": [
    {
     "output_type": "execute_result",
     "data": {
      "text/plain": [
       "  지점명  평균기온(°C)\n",
       "0  서울       2.7\n",
       "1  서울       5.0\n",
       "2  서울       2.0\n",
       "3  서울       3.9\n",
       "4  서울       3.8"
      ],
      "text/html": "<div>\n<style scoped>\n    .dataframe tbody tr th:only-of-type {\n        vertical-align: middle;\n    }\n\n    .dataframe tbody tr th {\n        vertical-align: top;\n    }\n\n    .dataframe thead th {\n        text-align: right;\n    }\n</style>\n<table border=\"1\" class=\"dataframe\">\n  <thead>\n    <tr style=\"text-align: right;\">\n      <th></th>\n      <th>지점명</th>\n      <th>평균기온(°C)</th>\n    </tr>\n  </thead>\n  <tbody>\n    <tr>\n      <th>0</th>\n      <td>서울</td>\n      <td>2.7</td>\n    </tr>\n    <tr>\n      <th>1</th>\n      <td>서울</td>\n      <td>5.0</td>\n    </tr>\n    <tr>\n      <th>2</th>\n      <td>서울</td>\n      <td>2.0</td>\n    </tr>\n    <tr>\n      <th>3</th>\n      <td>서울</td>\n      <td>3.9</td>\n    </tr>\n    <tr>\n      <th>4</th>\n      <td>서울</td>\n      <td>3.8</td>\n    </tr>\n  </tbody>\n</table>\n</div>"
     },
     "metadata": {},
     "execution_count": 21
    }
   ],
   "source": [
    "\n",
    "df[[\"지점명\", \"평균기온(°C)\"]].head()"
   ]
  },
  {
   "cell_type": "code",
   "execution_count": 24,
   "metadata": {},
   "outputs": [
    {
     "output_type": "execute_result",
     "data": {
      "text/plain": [
       "    지점 지점명          일시  평균기온(°C)  최저기온(°C)  최저기온 시각(hhmi)  최고기온(°C)  \\\n",
       "0  108  서울  2017-01-01       2.7      -1.6          540.0       6.9   \n",
       "1  108  서울  2017-01-02       5.0       1.8         2355.0       9.2   \n",
       "2  108  서울  2017-01-03       2.0      -2.3          731.0       7.7   \n",
       "3  108  서울  2017-01-04       3.9       1.0            1.0       8.9   \n",
       "4  108  서울  2017-01-05       3.8      -0.1          316.0       7.3   \n",
       "\n",
       "   최고기온 시각(hhmi)  강수 계속시간(hr)  10분 최다 강수량(mm)  10분 최다강수량 시각(hhmi)  \\\n",
       "0         1419.0          NaN             NaN                 NaN   \n",
       "1         1355.0         2.08             NaN                 NaN   \n",
       "2         1444.0          NaN             NaN                 NaN   \n",
       "3         1519.0          NaN             NaN                 NaN   \n",
       "4         1444.0          NaN             NaN                 NaN   \n",
       "\n",
       "   1시간 최다강수량(mm)  1시간 최다 강수량 시각(hhmi)  일강수량(mm)  최대 순간 풍속(m/s)  \\\n",
       "0            NaN                  NaN       NaN            4.5   \n",
       "1            NaN                  NaN       0.3            7.0   \n",
       "2            NaN                  NaN       NaN            7.2   \n",
       "3            NaN                  NaN       NaN            6.5   \n",
       "4            NaN                  NaN       NaN            9.4   \n",
       "\n",
       "   최대 순간 풍속 풍향(16방위)  최대 순간풍속 시각(hhmi)  최대 풍속(m/s)  최대 풍속 풍향(16방위)  \\\n",
       "0               20.0            1050.0         2.8            50.0   \n",
       "1              230.0            1606.0         4.2           250.0   \n",
       "2              180.0            1438.0         4.0           250.0   \n",
       "3              290.0            1348.0         4.0           250.0   \n",
       "4               50.0            1423.0         5.6            50.0   \n",
       "\n",
       "   최대 풍속 시각(hhmi)  평균 풍속(m/s)  풍정합(100m)  평균 이슬점온도(°C)  최소 상대습도(%)  \\\n",
       "0          2059.0         1.5     1333.0          -1.2        59.0   \n",
       "1          1609.0         2.1     1843.0           1.3        57.0   \n",
       "2          1458.0         1.8     1575.0          -4.8        38.0   \n",
       "3          1429.0         1.7     1444.0          -4.8        31.0   \n",
       "4          1553.0         3.1     2693.0          -5.1        42.0   \n",
       "\n",
       "   최소 상대습도 시각(hhmi)  평균 상대습도(%)  평균 증기압(hPa)  평균 현지기압(hPa)  최고 해면기압(hPa)  \\\n",
       "0            1342.0        75.9          5.6        1017.1        1031.0   \n",
       "1            1355.0        77.8          6.8        1011.8        1024.9   \n",
       "2            1254.0        61.8          4.3        1013.4        1026.0   \n",
       "3            1503.0        55.0          4.3        1013.2        1025.3   \n",
       "4             943.0        52.3          4.2        1016.6        1028.6   \n",
       "\n",
       "   최고 해면기압 시각(hhmi)  최저 해면기압(hPa)  최저 해면기압 시각(hhmi)  평균 해면기압(hPa)  가조시간(hr)  \\\n",
       "0               928        1024.7            2315.0        1027.9       9.6   \n",
       "1                 1        1020.5            1410.0        1022.5       9.6   \n",
       "2               858        1022.8            1725.0        1024.2       9.7   \n",
       "3              2358        1022.5            1419.0        1024.0       9.7   \n",
       "4              2132        1025.3               1.0        1027.3       9.7   \n",
       "\n",
       "   합계 일조 시간(hr)  1시간 최다일사 시각(hhmi)  1시간 최다일사량(MJ/m2)  합계 일사(MJ/m2)  \\\n",
       "0           1.7             1300.0              0.90          4.38   \n",
       "1           2.7             1300.0              1.15          5.11   \n",
       "2           8.9             1200.0              1.53          8.51   \n",
       "3           8.6             1200.0              1.48          8.68   \n",
       "4           0.0             1300.0              0.70          4.27   \n",
       "\n",
       "   일 최심신적설(cm)  일 최심신적설 시각(hhmi)  일 최심적설(cm)  일 최심적설 시각(hhmi)  합계 3시간 신적설(cm)  \\\n",
       "0          NaN               NaN         NaN              NaN             NaN   \n",
       "1          NaN               NaN         NaN              NaN             NaN   \n",
       "2          NaN               NaN         NaN              NaN             NaN   \n",
       "3          NaN               NaN         NaN              NaN             NaN   \n",
       "4          NaN               NaN         NaN              NaN             NaN   \n",
       "\n",
       "   평균 전운량(1/10)  평균 중하층운량(1/10)  평균 지면온도(°C)  최저 초상온도(°C)  평균 5cm 지중온도(°C)  \\\n",
       "0           7.0             7.0          0.9         -5.1              0.5   \n",
       "1           7.6             6.9          4.8         -1.6              3.9   \n",
       "2           1.1             1.1          1.5         -6.8              2.6   \n",
       "3           2.6             2.1          3.0         -4.4              3.4   \n",
       "4           8.4             1.3          2.4         -5.8              2.7   \n",
       "\n",
       "   평균 10cm 지중온도(°C)  평균 20cm 지중온도(°C)  평균 30cm 지중온도(°C)  0.5m 지중온도(°C)  \\\n",
       "0               0.6               1.8               2.7            3.8   \n",
       "1               3.0               3.0               3.2            3.8   \n",
       "2               3.0               3.5               4.0            4.5   \n",
       "3               3.3               3.6               4.0            4.5   \n",
       "4               2.8               3.5               4.1            4.7   \n",
       "\n",
       "   1.0m 지중온도(°C)  1.5m 지중온도(°C)  3.0m 지중온도(°C)  5.0m 지중온도(°C)  합계 대형증발량(mm)  \\\n",
       "0            7.1           10.2           15.7           17.5           0.7   \n",
       "1            7.0           10.1           15.6           17.5           0.9   \n",
       "2            6.9            9.9           15.5           17.4           1.3   \n",
       "3            6.9            9.8           15.4           17.4           1.5   \n",
       "4            6.9            9.7           15.4           17.4           1.6   \n",
       "\n",
       "   합계 소형증발량(mm)  9-9강수(mm)  안개 계속시간(hr)  합계 일조시간(hr)  합계 일사량(MJ/m2)  \n",
       "0           1.0        0.3          NaN          NaN            NaN  \n",
       "1           1.2        NaN          NaN          NaN            NaN  \n",
       "2           1.8        NaN          NaN          NaN            NaN  \n",
       "3           2.2        NaN          NaN          NaN            NaN  \n",
       "4           2.3        NaN          NaN          NaN            NaN  "
      ],
      "text/html": "<div>\n<style scoped>\n    .dataframe tbody tr th:only-of-type {\n        vertical-align: middle;\n    }\n\n    .dataframe tbody tr th {\n        vertical-align: top;\n    }\n\n    .dataframe thead th {\n        text-align: right;\n    }\n</style>\n<table border=\"1\" class=\"dataframe\">\n  <thead>\n    <tr style=\"text-align: right;\">\n      <th></th>\n      <th>지점</th>\n      <th>지점명</th>\n      <th>일시</th>\n      <th>평균기온(°C)</th>\n      <th>최저기온(°C)</th>\n      <th>최저기온 시각(hhmi)</th>\n      <th>최고기온(°C)</th>\n      <th>최고기온 시각(hhmi)</th>\n      <th>강수 계속시간(hr)</th>\n      <th>10분 최다 강수량(mm)</th>\n      <th>10분 최다강수량 시각(hhmi)</th>\n      <th>1시간 최다강수량(mm)</th>\n      <th>1시간 최다 강수량 시각(hhmi)</th>\n      <th>일강수량(mm)</th>\n      <th>최대 순간 풍속(m/s)</th>\n      <th>최대 순간 풍속 풍향(16방위)</th>\n      <th>최대 순간풍속 시각(hhmi)</th>\n      <th>최대 풍속(m/s)</th>\n      <th>최대 풍속 풍향(16방위)</th>\n      <th>최대 풍속 시각(hhmi)</th>\n      <th>평균 풍속(m/s)</th>\n      <th>풍정합(100m)</th>\n      <th>평균 이슬점온도(°C)</th>\n      <th>최소 상대습도(%)</th>\n      <th>최소 상대습도 시각(hhmi)</th>\n      <th>평균 상대습도(%)</th>\n      <th>평균 증기압(hPa)</th>\n      <th>평균 현지기압(hPa)</th>\n      <th>최고 해면기압(hPa)</th>\n      <th>최고 해면기압 시각(hhmi)</th>\n      <th>최저 해면기압(hPa)</th>\n      <th>최저 해면기압 시각(hhmi)</th>\n      <th>평균 해면기압(hPa)</th>\n      <th>가조시간(hr)</th>\n      <th>합계 일조 시간(hr)</th>\n      <th>1시간 최다일사 시각(hhmi)</th>\n      <th>1시간 최다일사량(MJ/m2)</th>\n      <th>합계 일사(MJ/m2)</th>\n      <th>일 최심신적설(cm)</th>\n      <th>일 최심신적설 시각(hhmi)</th>\n      <th>일 최심적설(cm)</th>\n      <th>일 최심적설 시각(hhmi)</th>\n      <th>합계 3시간 신적설(cm)</th>\n      <th>평균 전운량(1/10)</th>\n      <th>평균 중하층운량(1/10)</th>\n      <th>평균 지면온도(°C)</th>\n      <th>최저 초상온도(°C)</th>\n      <th>평균 5cm 지중온도(°C)</th>\n      <th>평균 10cm 지중온도(°C)</th>\n      <th>평균 20cm 지중온도(°C)</th>\n      <th>평균 30cm 지중온도(°C)</th>\n      <th>0.5m 지중온도(°C)</th>\n      <th>1.0m 지중온도(°C)</th>\n      <th>1.5m 지중온도(°C)</th>\n      <th>3.0m 지중온도(°C)</th>\n      <th>5.0m 지중온도(°C)</th>\n      <th>합계 대형증발량(mm)</th>\n      <th>합계 소형증발량(mm)</th>\n      <th>9-9강수(mm)</th>\n      <th>안개 계속시간(hr)</th>\n      <th>합계 일조시간(hr)</th>\n      <th>합계 일사량(MJ/m2)</th>\n    </tr>\n  </thead>\n  <tbody>\n    <tr>\n      <th>0</th>\n      <td>108</td>\n      <td>서울</td>\n      <td>2017-01-01</td>\n      <td>2.7</td>\n      <td>-1.6</td>\n      <td>540.0</td>\n      <td>6.9</td>\n      <td>1419.0</td>\n      <td>NaN</td>\n      <td>NaN</td>\n      <td>NaN</td>\n      <td>NaN</td>\n      <td>NaN</td>\n      <td>NaN</td>\n      <td>4.5</td>\n      <td>20.0</td>\n      <td>1050.0</td>\n      <td>2.8</td>\n      <td>50.0</td>\n      <td>2059.0</td>\n      <td>1.5</td>\n      <td>1333.0</td>\n      <td>-1.2</td>\n      <td>59.0</td>\n      <td>1342.0</td>\n      <td>75.9</td>\n      <td>5.6</td>\n      <td>1017.1</td>\n      <td>1031.0</td>\n      <td>928</td>\n      <td>1024.7</td>\n      <td>2315.0</td>\n      <td>1027.9</td>\n      <td>9.6</td>\n      <td>1.7</td>\n      <td>1300.0</td>\n      <td>0.90</td>\n      <td>4.38</td>\n      <td>NaN</td>\n      <td>NaN</td>\n      <td>NaN</td>\n      <td>NaN</td>\n      <td>NaN</td>\n      <td>7.0</td>\n      <td>7.0</td>\n      <td>0.9</td>\n      <td>-5.1</td>\n      <td>0.5</td>\n      <td>0.6</td>\n      <td>1.8</td>\n      <td>2.7</td>\n      <td>3.8</td>\n      <td>7.1</td>\n      <td>10.2</td>\n      <td>15.7</td>\n      <td>17.5</td>\n      <td>0.7</td>\n      <td>1.0</td>\n      <td>0.3</td>\n      <td>NaN</td>\n      <td>NaN</td>\n      <td>NaN</td>\n    </tr>\n    <tr>\n      <th>1</th>\n      <td>108</td>\n      <td>서울</td>\n      <td>2017-01-02</td>\n      <td>5.0</td>\n      <td>1.8</td>\n      <td>2355.0</td>\n      <td>9.2</td>\n      <td>1355.0</td>\n      <td>2.08</td>\n      <td>NaN</td>\n      <td>NaN</td>\n      <td>NaN</td>\n      <td>NaN</td>\n      <td>0.3</td>\n      <td>7.0</td>\n      <td>230.0</td>\n      <td>1606.0</td>\n      <td>4.2</td>\n      <td>250.0</td>\n      <td>1609.0</td>\n      <td>2.1</td>\n      <td>1843.0</td>\n      <td>1.3</td>\n      <td>57.0</td>\n      <td>1355.0</td>\n      <td>77.8</td>\n      <td>6.8</td>\n      <td>1011.8</td>\n      <td>1024.9</td>\n      <td>1</td>\n      <td>1020.5</td>\n      <td>1410.0</td>\n      <td>1022.5</td>\n      <td>9.6</td>\n      <td>2.7</td>\n      <td>1300.0</td>\n      <td>1.15</td>\n      <td>5.11</td>\n      <td>NaN</td>\n      <td>NaN</td>\n      <td>NaN</td>\n      <td>NaN</td>\n      <td>NaN</td>\n      <td>7.6</td>\n      <td>6.9</td>\n      <td>4.8</td>\n      <td>-1.6</td>\n      <td>3.9</td>\n      <td>3.0</td>\n      <td>3.0</td>\n      <td>3.2</td>\n      <td>3.8</td>\n      <td>7.0</td>\n      <td>10.1</td>\n      <td>15.6</td>\n      <td>17.5</td>\n      <td>0.9</td>\n      <td>1.2</td>\n      <td>NaN</td>\n      <td>NaN</td>\n      <td>NaN</td>\n      <td>NaN</td>\n    </tr>\n    <tr>\n      <th>2</th>\n      <td>108</td>\n      <td>서울</td>\n      <td>2017-01-03</td>\n      <td>2.0</td>\n      <td>-2.3</td>\n      <td>731.0</td>\n      <td>7.7</td>\n      <td>1444.0</td>\n      <td>NaN</td>\n      <td>NaN</td>\n      <td>NaN</td>\n      <td>NaN</td>\n      <td>NaN</td>\n      <td>NaN</td>\n      <td>7.2</td>\n      <td>180.0</td>\n      <td>1438.0</td>\n      <td>4.0</td>\n      <td>250.0</td>\n      <td>1458.0</td>\n      <td>1.8</td>\n      <td>1575.0</td>\n      <td>-4.8</td>\n      <td>38.0</td>\n      <td>1254.0</td>\n      <td>61.8</td>\n      <td>4.3</td>\n      <td>1013.4</td>\n      <td>1026.0</td>\n      <td>858</td>\n      <td>1022.8</td>\n      <td>1725.0</td>\n      <td>1024.2</td>\n      <td>9.7</td>\n      <td>8.9</td>\n      <td>1200.0</td>\n      <td>1.53</td>\n      <td>8.51</td>\n      <td>NaN</td>\n      <td>NaN</td>\n      <td>NaN</td>\n      <td>NaN</td>\n      <td>NaN</td>\n      <td>1.1</td>\n      <td>1.1</td>\n      <td>1.5</td>\n      <td>-6.8</td>\n      <td>2.6</td>\n      <td>3.0</td>\n      <td>3.5</td>\n      <td>4.0</td>\n      <td>4.5</td>\n      <td>6.9</td>\n      <td>9.9</td>\n      <td>15.5</td>\n      <td>17.4</td>\n      <td>1.3</td>\n      <td>1.8</td>\n      <td>NaN</td>\n      <td>NaN</td>\n      <td>NaN</td>\n      <td>NaN</td>\n    </tr>\n    <tr>\n      <th>3</th>\n      <td>108</td>\n      <td>서울</td>\n      <td>2017-01-04</td>\n      <td>3.9</td>\n      <td>1.0</td>\n      <td>1.0</td>\n      <td>8.9</td>\n      <td>1519.0</td>\n      <td>NaN</td>\n      <td>NaN</td>\n      <td>NaN</td>\n      <td>NaN</td>\n      <td>NaN</td>\n      <td>NaN</td>\n      <td>6.5</td>\n      <td>290.0</td>\n      <td>1348.0</td>\n      <td>4.0</td>\n      <td>250.0</td>\n      <td>1429.0</td>\n      <td>1.7</td>\n      <td>1444.0</td>\n      <td>-4.8</td>\n      <td>31.0</td>\n      <td>1503.0</td>\n      <td>55.0</td>\n      <td>4.3</td>\n      <td>1013.2</td>\n      <td>1025.3</td>\n      <td>2358</td>\n      <td>1022.5</td>\n      <td>1419.0</td>\n      <td>1024.0</td>\n      <td>9.7</td>\n      <td>8.6</td>\n      <td>1200.0</td>\n      <td>1.48</td>\n      <td>8.68</td>\n      <td>NaN</td>\n      <td>NaN</td>\n      <td>NaN</td>\n      <td>NaN</td>\n      <td>NaN</td>\n      <td>2.6</td>\n      <td>2.1</td>\n      <td>3.0</td>\n      <td>-4.4</td>\n      <td>3.4</td>\n      <td>3.3</td>\n      <td>3.6</td>\n      <td>4.0</td>\n      <td>4.5</td>\n      <td>6.9</td>\n      <td>9.8</td>\n      <td>15.4</td>\n      <td>17.4</td>\n      <td>1.5</td>\n      <td>2.2</td>\n      <td>NaN</td>\n      <td>NaN</td>\n      <td>NaN</td>\n      <td>NaN</td>\n    </tr>\n    <tr>\n      <th>4</th>\n      <td>108</td>\n      <td>서울</td>\n      <td>2017-01-05</td>\n      <td>3.8</td>\n      <td>-0.1</td>\n      <td>316.0</td>\n      <td>7.3</td>\n      <td>1444.0</td>\n      <td>NaN</td>\n      <td>NaN</td>\n      <td>NaN</td>\n      <td>NaN</td>\n      <td>NaN</td>\n      <td>NaN</td>\n      <td>9.4</td>\n      <td>50.0</td>\n      <td>1423.0</td>\n      <td>5.6</td>\n      <td>50.0</td>\n      <td>1553.0</td>\n      <td>3.1</td>\n      <td>2693.0</td>\n      <td>-5.1</td>\n      <td>42.0</td>\n      <td>943.0</td>\n      <td>52.3</td>\n      <td>4.2</td>\n      <td>1016.6</td>\n      <td>1028.6</td>\n      <td>2132</td>\n      <td>1025.3</td>\n      <td>1.0</td>\n      <td>1027.3</td>\n      <td>9.7</td>\n      <td>0.0</td>\n      <td>1300.0</td>\n      <td>0.70</td>\n      <td>4.27</td>\n      <td>NaN</td>\n      <td>NaN</td>\n      <td>NaN</td>\n      <td>NaN</td>\n      <td>NaN</td>\n      <td>8.4</td>\n      <td>1.3</td>\n      <td>2.4</td>\n      <td>-5.8</td>\n      <td>2.7</td>\n      <td>2.8</td>\n      <td>3.5</td>\n      <td>4.1</td>\n      <td>4.7</td>\n      <td>6.9</td>\n      <td>9.7</td>\n      <td>15.4</td>\n      <td>17.4</td>\n      <td>1.6</td>\n      <td>2.3</td>\n      <td>NaN</td>\n      <td>NaN</td>\n      <td>NaN</td>\n      <td>NaN</td>\n    </tr>\n  </tbody>\n</table>\n</div>"
     },
     "metadata": {},
     "execution_count": 24
    }
   ],
   "source": [
    "# query 문을 통해 원하는 데이터 가져오기\n",
    "df.query(\"지점명 == '서울'\").head()\n"
   ]
  },
  {
   "cell_type": "code",
   "execution_count": 23,
   "metadata": {},
   "outputs": [
    {
     "output_type": "execute_result",
     "data": {
      "text/plain": [
       "    지점 지점명          일시  평균기온(°C)  최저기온(°C)  최저기온 시각(hhmi)  최고기온(°C)  \\\n",
       "0  108  서울  2017-01-01       2.7      -1.6          540.0       6.9   \n",
       "1  108  서울  2017-01-02       5.0       1.8         2355.0       9.2   \n",
       "2  108  서울  2017-01-03       2.0      -2.3          731.0       7.7   \n",
       "3  108  서울  2017-01-04       3.9       1.0            1.0       8.9   \n",
       "4  108  서울  2017-01-05       3.8      -0.1          316.0       7.3   \n",
       "\n",
       "   최고기온 시각(hhmi)  강수 계속시간(hr)  10분 최다 강수량(mm)  10분 최다강수량 시각(hhmi)  \\\n",
       "0         1419.0          NaN             NaN                 NaN   \n",
       "1         1355.0         2.08             NaN                 NaN   \n",
       "2         1444.0          NaN             NaN                 NaN   \n",
       "3         1519.0          NaN             NaN                 NaN   \n",
       "4         1444.0          NaN             NaN                 NaN   \n",
       "\n",
       "   1시간 최다강수량(mm)  1시간 최다 강수량 시각(hhmi)  일강수량(mm)  최대 순간 풍속(m/s)  \\\n",
       "0            NaN                  NaN       NaN            4.5   \n",
       "1            NaN                  NaN       0.3            7.0   \n",
       "2            NaN                  NaN       NaN            7.2   \n",
       "3            NaN                  NaN       NaN            6.5   \n",
       "4            NaN                  NaN       NaN            9.4   \n",
       "\n",
       "   최대 순간 풍속 풍향(16방위)  최대 순간풍속 시각(hhmi)  최대 풍속(m/s)  최대 풍속 풍향(16방위)  \\\n",
       "0               20.0            1050.0         2.8            50.0   \n",
       "1              230.0            1606.0         4.2           250.0   \n",
       "2              180.0            1438.0         4.0           250.0   \n",
       "3              290.0            1348.0         4.0           250.0   \n",
       "4               50.0            1423.0         5.6            50.0   \n",
       "\n",
       "   최대 풍속 시각(hhmi)  평균 풍속(m/s)  풍정합(100m)  평균 이슬점온도(°C)  최소 상대습도(%)  \\\n",
       "0          2059.0         1.5     1333.0          -1.2        59.0   \n",
       "1          1609.0         2.1     1843.0           1.3        57.0   \n",
       "2          1458.0         1.8     1575.0          -4.8        38.0   \n",
       "3          1429.0         1.7     1444.0          -4.8        31.0   \n",
       "4          1553.0         3.1     2693.0          -5.1        42.0   \n",
       "\n",
       "   최소 상대습도 시각(hhmi)  평균 상대습도(%)  평균 증기압(hPa)  평균 현지기압(hPa)  최고 해면기압(hPa)  \\\n",
       "0            1342.0        75.9          5.6        1017.1        1031.0   \n",
       "1            1355.0        77.8          6.8        1011.8        1024.9   \n",
       "2            1254.0        61.8          4.3        1013.4        1026.0   \n",
       "3            1503.0        55.0          4.3        1013.2        1025.3   \n",
       "4             943.0        52.3          4.2        1016.6        1028.6   \n",
       "\n",
       "   최고 해면기압 시각(hhmi)  최저 해면기압(hPa)  최저 해면기압 시각(hhmi)  평균 해면기압(hPa)  가조시간(hr)  \\\n",
       "0               928        1024.7            2315.0        1027.9       9.6   \n",
       "1                 1        1020.5            1410.0        1022.5       9.6   \n",
       "2               858        1022.8            1725.0        1024.2       9.7   \n",
       "3              2358        1022.5            1419.0        1024.0       9.7   \n",
       "4              2132        1025.3               1.0        1027.3       9.7   \n",
       "\n",
       "   합계 일조 시간(hr)  1시간 최다일사 시각(hhmi)  1시간 최다일사량(MJ/m2)  합계 일사(MJ/m2)  \\\n",
       "0           1.7             1300.0              0.90          4.38   \n",
       "1           2.7             1300.0              1.15          5.11   \n",
       "2           8.9             1200.0              1.53          8.51   \n",
       "3           8.6             1200.0              1.48          8.68   \n",
       "4           0.0             1300.0              0.70          4.27   \n",
       "\n",
       "   일 최심신적설(cm)  일 최심신적설 시각(hhmi)  일 최심적설(cm)  일 최심적설 시각(hhmi)  합계 3시간 신적설(cm)  \\\n",
       "0          NaN               NaN         NaN              NaN             NaN   \n",
       "1          NaN               NaN         NaN              NaN             NaN   \n",
       "2          NaN               NaN         NaN              NaN             NaN   \n",
       "3          NaN               NaN         NaN              NaN             NaN   \n",
       "4          NaN               NaN         NaN              NaN             NaN   \n",
       "\n",
       "   평균 전운량(1/10)  평균 중하층운량(1/10)  평균 지면온도(°C)  최저 초상온도(°C)  평균 5cm 지중온도(°C)  \\\n",
       "0           7.0             7.0          0.9         -5.1              0.5   \n",
       "1           7.6             6.9          4.8         -1.6              3.9   \n",
       "2           1.1             1.1          1.5         -6.8              2.6   \n",
       "3           2.6             2.1          3.0         -4.4              3.4   \n",
       "4           8.4             1.3          2.4         -5.8              2.7   \n",
       "\n",
       "   평균 10cm 지중온도(°C)  평균 20cm 지중온도(°C)  평균 30cm 지중온도(°C)  0.5m 지중온도(°C)  \\\n",
       "0               0.6               1.8               2.7            3.8   \n",
       "1               3.0               3.0               3.2            3.8   \n",
       "2               3.0               3.5               4.0            4.5   \n",
       "3               3.3               3.6               4.0            4.5   \n",
       "4               2.8               3.5               4.1            4.7   \n",
       "\n",
       "   1.0m 지중온도(°C)  1.5m 지중온도(°C)  3.0m 지중온도(°C)  5.0m 지중온도(°C)  합계 대형증발량(mm)  \\\n",
       "0            7.1           10.2           15.7           17.5           0.7   \n",
       "1            7.0           10.1           15.6           17.5           0.9   \n",
       "2            6.9            9.9           15.5           17.4           1.3   \n",
       "3            6.9            9.8           15.4           17.4           1.5   \n",
       "4            6.9            9.7           15.4           17.4           1.6   \n",
       "\n",
       "   합계 소형증발량(mm)  9-9강수(mm)  안개 계속시간(hr)  합계 일조시간(hr)  합계 일사량(MJ/m2)  \n",
       "0           1.0        0.3          NaN          NaN            NaN  \n",
       "1           1.2        NaN          NaN          NaN            NaN  \n",
       "2           1.8        NaN          NaN          NaN            NaN  \n",
       "3           2.2        NaN          NaN          NaN            NaN  \n",
       "4           2.3        NaN          NaN          NaN            NaN  "
      ],
      "text/html": "<div>\n<style scoped>\n    .dataframe tbody tr th:only-of-type {\n        vertical-align: middle;\n    }\n\n    .dataframe tbody tr th {\n        vertical-align: top;\n    }\n\n    .dataframe thead th {\n        text-align: right;\n    }\n</style>\n<table border=\"1\" class=\"dataframe\">\n  <thead>\n    <tr style=\"text-align: right;\">\n      <th></th>\n      <th>지점</th>\n      <th>지점명</th>\n      <th>일시</th>\n      <th>평균기온(°C)</th>\n      <th>최저기온(°C)</th>\n      <th>최저기온 시각(hhmi)</th>\n      <th>최고기온(°C)</th>\n      <th>최고기온 시각(hhmi)</th>\n      <th>강수 계속시간(hr)</th>\n      <th>10분 최다 강수량(mm)</th>\n      <th>10분 최다강수량 시각(hhmi)</th>\n      <th>1시간 최다강수량(mm)</th>\n      <th>1시간 최다 강수량 시각(hhmi)</th>\n      <th>일강수량(mm)</th>\n      <th>최대 순간 풍속(m/s)</th>\n      <th>최대 순간 풍속 풍향(16방위)</th>\n      <th>최대 순간풍속 시각(hhmi)</th>\n      <th>최대 풍속(m/s)</th>\n      <th>최대 풍속 풍향(16방위)</th>\n      <th>최대 풍속 시각(hhmi)</th>\n      <th>평균 풍속(m/s)</th>\n      <th>풍정합(100m)</th>\n      <th>평균 이슬점온도(°C)</th>\n      <th>최소 상대습도(%)</th>\n      <th>최소 상대습도 시각(hhmi)</th>\n      <th>평균 상대습도(%)</th>\n      <th>평균 증기압(hPa)</th>\n      <th>평균 현지기압(hPa)</th>\n      <th>최고 해면기압(hPa)</th>\n      <th>최고 해면기압 시각(hhmi)</th>\n      <th>최저 해면기압(hPa)</th>\n      <th>최저 해면기압 시각(hhmi)</th>\n      <th>평균 해면기압(hPa)</th>\n      <th>가조시간(hr)</th>\n      <th>합계 일조 시간(hr)</th>\n      <th>1시간 최다일사 시각(hhmi)</th>\n      <th>1시간 최다일사량(MJ/m2)</th>\n      <th>합계 일사(MJ/m2)</th>\n      <th>일 최심신적설(cm)</th>\n      <th>일 최심신적설 시각(hhmi)</th>\n      <th>일 최심적설(cm)</th>\n      <th>일 최심적설 시각(hhmi)</th>\n      <th>합계 3시간 신적설(cm)</th>\n      <th>평균 전운량(1/10)</th>\n      <th>평균 중하층운량(1/10)</th>\n      <th>평균 지면온도(°C)</th>\n      <th>최저 초상온도(°C)</th>\n      <th>평균 5cm 지중온도(°C)</th>\n      <th>평균 10cm 지중온도(°C)</th>\n      <th>평균 20cm 지중온도(°C)</th>\n      <th>평균 30cm 지중온도(°C)</th>\n      <th>0.5m 지중온도(°C)</th>\n      <th>1.0m 지중온도(°C)</th>\n      <th>1.5m 지중온도(°C)</th>\n      <th>3.0m 지중온도(°C)</th>\n      <th>5.0m 지중온도(°C)</th>\n      <th>합계 대형증발량(mm)</th>\n      <th>합계 소형증발량(mm)</th>\n      <th>9-9강수(mm)</th>\n      <th>안개 계속시간(hr)</th>\n      <th>합계 일조시간(hr)</th>\n      <th>합계 일사량(MJ/m2)</th>\n    </tr>\n  </thead>\n  <tbody>\n    <tr>\n      <th>0</th>\n      <td>108</td>\n      <td>서울</td>\n      <td>2017-01-01</td>\n      <td>2.7</td>\n      <td>-1.6</td>\n      <td>540.0</td>\n      <td>6.9</td>\n      <td>1419.0</td>\n      <td>NaN</td>\n      <td>NaN</td>\n      <td>NaN</td>\n      <td>NaN</td>\n      <td>NaN</td>\n      <td>NaN</td>\n      <td>4.5</td>\n      <td>20.0</td>\n      <td>1050.0</td>\n      <td>2.8</td>\n      <td>50.0</td>\n      <td>2059.0</td>\n      <td>1.5</td>\n      <td>1333.0</td>\n      <td>-1.2</td>\n      <td>59.0</td>\n      <td>1342.0</td>\n      <td>75.9</td>\n      <td>5.6</td>\n      <td>1017.1</td>\n      <td>1031.0</td>\n      <td>928</td>\n      <td>1024.7</td>\n      <td>2315.0</td>\n      <td>1027.9</td>\n      <td>9.6</td>\n      <td>1.7</td>\n      <td>1300.0</td>\n      <td>0.90</td>\n      <td>4.38</td>\n      <td>NaN</td>\n      <td>NaN</td>\n      <td>NaN</td>\n      <td>NaN</td>\n      <td>NaN</td>\n      <td>7.0</td>\n      <td>7.0</td>\n      <td>0.9</td>\n      <td>-5.1</td>\n      <td>0.5</td>\n      <td>0.6</td>\n      <td>1.8</td>\n      <td>2.7</td>\n      <td>3.8</td>\n      <td>7.1</td>\n      <td>10.2</td>\n      <td>15.7</td>\n      <td>17.5</td>\n      <td>0.7</td>\n      <td>1.0</td>\n      <td>0.3</td>\n      <td>NaN</td>\n      <td>NaN</td>\n      <td>NaN</td>\n    </tr>\n    <tr>\n      <th>1</th>\n      <td>108</td>\n      <td>서울</td>\n      <td>2017-01-02</td>\n      <td>5.0</td>\n      <td>1.8</td>\n      <td>2355.0</td>\n      <td>9.2</td>\n      <td>1355.0</td>\n      <td>2.08</td>\n      <td>NaN</td>\n      <td>NaN</td>\n      <td>NaN</td>\n      <td>NaN</td>\n      <td>0.3</td>\n      <td>7.0</td>\n      <td>230.0</td>\n      <td>1606.0</td>\n      <td>4.2</td>\n      <td>250.0</td>\n      <td>1609.0</td>\n      <td>2.1</td>\n      <td>1843.0</td>\n      <td>1.3</td>\n      <td>57.0</td>\n      <td>1355.0</td>\n      <td>77.8</td>\n      <td>6.8</td>\n      <td>1011.8</td>\n      <td>1024.9</td>\n      <td>1</td>\n      <td>1020.5</td>\n      <td>1410.0</td>\n      <td>1022.5</td>\n      <td>9.6</td>\n      <td>2.7</td>\n      <td>1300.0</td>\n      <td>1.15</td>\n      <td>5.11</td>\n      <td>NaN</td>\n      <td>NaN</td>\n      <td>NaN</td>\n      <td>NaN</td>\n      <td>NaN</td>\n      <td>7.6</td>\n      <td>6.9</td>\n      <td>4.8</td>\n      <td>-1.6</td>\n      <td>3.9</td>\n      <td>3.0</td>\n      <td>3.0</td>\n      <td>3.2</td>\n      <td>3.8</td>\n      <td>7.0</td>\n      <td>10.1</td>\n      <td>15.6</td>\n      <td>17.5</td>\n      <td>0.9</td>\n      <td>1.2</td>\n      <td>NaN</td>\n      <td>NaN</td>\n      <td>NaN</td>\n      <td>NaN</td>\n    </tr>\n    <tr>\n      <th>2</th>\n      <td>108</td>\n      <td>서울</td>\n      <td>2017-01-03</td>\n      <td>2.0</td>\n      <td>-2.3</td>\n      <td>731.0</td>\n      <td>7.7</td>\n      <td>1444.0</td>\n      <td>NaN</td>\n      <td>NaN</td>\n      <td>NaN</td>\n      <td>NaN</td>\n      <td>NaN</td>\n      <td>NaN</td>\n      <td>7.2</td>\n      <td>180.0</td>\n      <td>1438.0</td>\n      <td>4.0</td>\n      <td>250.0</td>\n      <td>1458.0</td>\n      <td>1.8</td>\n      <td>1575.0</td>\n      <td>-4.8</td>\n      <td>38.0</td>\n      <td>1254.0</td>\n      <td>61.8</td>\n      <td>4.3</td>\n      <td>1013.4</td>\n      <td>1026.0</td>\n      <td>858</td>\n      <td>1022.8</td>\n      <td>1725.0</td>\n      <td>1024.2</td>\n      <td>9.7</td>\n      <td>8.9</td>\n      <td>1200.0</td>\n      <td>1.53</td>\n      <td>8.51</td>\n      <td>NaN</td>\n      <td>NaN</td>\n      <td>NaN</td>\n      <td>NaN</td>\n      <td>NaN</td>\n      <td>1.1</td>\n      <td>1.1</td>\n      <td>1.5</td>\n      <td>-6.8</td>\n      <td>2.6</td>\n      <td>3.0</td>\n      <td>3.5</td>\n      <td>4.0</td>\n      <td>4.5</td>\n      <td>6.9</td>\n      <td>9.9</td>\n      <td>15.5</td>\n      <td>17.4</td>\n      <td>1.3</td>\n      <td>1.8</td>\n      <td>NaN</td>\n      <td>NaN</td>\n      <td>NaN</td>\n      <td>NaN</td>\n    </tr>\n    <tr>\n      <th>3</th>\n      <td>108</td>\n      <td>서울</td>\n      <td>2017-01-04</td>\n      <td>3.9</td>\n      <td>1.0</td>\n      <td>1.0</td>\n      <td>8.9</td>\n      <td>1519.0</td>\n      <td>NaN</td>\n      <td>NaN</td>\n      <td>NaN</td>\n      <td>NaN</td>\n      <td>NaN</td>\n      <td>NaN</td>\n      <td>6.5</td>\n      <td>290.0</td>\n      <td>1348.0</td>\n      <td>4.0</td>\n      <td>250.0</td>\n      <td>1429.0</td>\n      <td>1.7</td>\n      <td>1444.0</td>\n      <td>-4.8</td>\n      <td>31.0</td>\n      <td>1503.0</td>\n      <td>55.0</td>\n      <td>4.3</td>\n      <td>1013.2</td>\n      <td>1025.3</td>\n      <td>2358</td>\n      <td>1022.5</td>\n      <td>1419.0</td>\n      <td>1024.0</td>\n      <td>9.7</td>\n      <td>8.6</td>\n      <td>1200.0</td>\n      <td>1.48</td>\n      <td>8.68</td>\n      <td>NaN</td>\n      <td>NaN</td>\n      <td>NaN</td>\n      <td>NaN</td>\n      <td>NaN</td>\n      <td>2.6</td>\n      <td>2.1</td>\n      <td>3.0</td>\n      <td>-4.4</td>\n      <td>3.4</td>\n      <td>3.3</td>\n      <td>3.6</td>\n      <td>4.0</td>\n      <td>4.5</td>\n      <td>6.9</td>\n      <td>9.8</td>\n      <td>15.4</td>\n      <td>17.4</td>\n      <td>1.5</td>\n      <td>2.2</td>\n      <td>NaN</td>\n      <td>NaN</td>\n      <td>NaN</td>\n      <td>NaN</td>\n    </tr>\n    <tr>\n      <th>4</th>\n      <td>108</td>\n      <td>서울</td>\n      <td>2017-01-05</td>\n      <td>3.8</td>\n      <td>-0.1</td>\n      <td>316.0</td>\n      <td>7.3</td>\n      <td>1444.0</td>\n      <td>NaN</td>\n      <td>NaN</td>\n      <td>NaN</td>\n      <td>NaN</td>\n      <td>NaN</td>\n      <td>NaN</td>\n      <td>9.4</td>\n      <td>50.0</td>\n      <td>1423.0</td>\n      <td>5.6</td>\n      <td>50.0</td>\n      <td>1553.0</td>\n      <td>3.1</td>\n      <td>2693.0</td>\n      <td>-5.1</td>\n      <td>42.0</td>\n      <td>943.0</td>\n      <td>52.3</td>\n      <td>4.2</td>\n      <td>1016.6</td>\n      <td>1028.6</td>\n      <td>2132</td>\n      <td>1025.3</td>\n      <td>1.0</td>\n      <td>1027.3</td>\n      <td>9.7</td>\n      <td>0.0</td>\n      <td>1300.0</td>\n      <td>0.70</td>\n      <td>4.27</td>\n      <td>NaN</td>\n      <td>NaN</td>\n      <td>NaN</td>\n      <td>NaN</td>\n      <td>NaN</td>\n      <td>8.4</td>\n      <td>1.3</td>\n      <td>2.4</td>\n      <td>-5.8</td>\n      <td>2.7</td>\n      <td>2.8</td>\n      <td>3.5</td>\n      <td>4.1</td>\n      <td>4.7</td>\n      <td>6.9</td>\n      <td>9.7</td>\n      <td>15.4</td>\n      <td>17.4</td>\n      <td>1.6</td>\n      <td>2.3</td>\n      <td>NaN</td>\n      <td>NaN</td>\n      <td>NaN</td>\n      <td>NaN</td>\n    </tr>\n  </tbody>\n</table>\n</div>"
     },
     "metadata": {},
     "execution_count": 23
    }
   ],
   "source": [
    "# 지점명이 \"서울\" 인 데이터만 가져오기\n",
    "df[df[\"지점명\"] == \"서울\"].head()  \n",
    "\n",
    "# 둘다 동일함"
   ]
  },
  {
   "cell_type": "code",
   "execution_count": 25,
   "metadata": {},
   "outputs": [
    {
     "output_type": "execute_result",
     "data": {
      "text/plain": [
       "       지점 지점명          일시  평균기온(°C)  최저기온(°C)  최저기온 시각(hhmi)  최고기온(°C)  \\\n",
       "577   108  서울  2018-08-01      33.6      27.8          556.0      39.6   \n",
       "578   108  서울  2018-08-02      33.7      30.3          607.0      37.9   \n",
       "579   108  서울  2018-08-03      33.1      30.0         2342.0      37.9   \n",
       "2768  133  대전  2018-08-02      33.4      27.6          610.0      38.6   \n",
       "3856  143  대구  2018-07-26      33.1      27.9          542.0      38.0   \n",
       "\n",
       "      최고기온 시각(hhmi)  강수 계속시간(hr)  10분 최다 강수량(mm)  10분 최다강수량 시각(hhmi)  \\\n",
       "577          1536.0          NaN             NaN                 NaN   \n",
       "578          1558.0          NaN             NaN                 NaN   \n",
       "579          1415.0          NaN             NaN                 NaN   \n",
       "2768         1406.0          NaN             NaN                 NaN   \n",
       "3856         1353.0          NaN             NaN                 NaN   \n",
       "\n",
       "      1시간 최다강수량(mm)  1시간 최다 강수량 시각(hhmi)  일강수량(mm)  최대 순간 풍속(m/s)  \\\n",
       "577             NaN                  NaN       NaN            7.1   \n",
       "578             NaN                  NaN       NaN            7.0   \n",
       "579             NaN                  NaN       NaN            7.3   \n",
       "2768            NaN                  NaN       NaN            6.9   \n",
       "3856            NaN                  NaN       NaN            5.4   \n",
       "\n",
       "      최대 순간 풍속 풍향(16방위)  최대 순간풍속 시각(hhmi)  최대 풍속(m/s)  최대 풍속 풍향(16방위)  \\\n",
       "577                20.0            1246.0         4.0           270.0   \n",
       "578               320.0            1632.0         3.2           320.0   \n",
       "579               320.0            1454.0         4.2           320.0   \n",
       "2768               70.0            1218.0         3.7           110.0   \n",
       "3856              290.0            1319.0         3.2           340.0   \n",
       "\n",
       "      최대 풍속 시각(hhmi)  평균 풍속(m/s)  풍정합(100m)  평균 이슬점온도(°C)  최소 상대습도(%)  \\\n",
       "577           1802.0         1.7     1454.0          22.9        35.0   \n",
       "578           1633.0         1.6     1343.0          22.9        38.0   \n",
       "579           1523.0         1.9     1628.0          22.6        39.0   \n",
       "2768          1716.0         1.9     1684.0          23.1        40.0   \n",
       "3856          1714.0         1.8     1522.0          21.8        33.0   \n",
       "\n",
       "      최소 상대습도 시각(hhmi)  평균 상대습도(%)  평균 증기압(hPa)  평균 현지기압(hPa)  최고 해면기압(hPa)  \\\n",
       "577             1253.0        55.5         28.0         993.4        1004.1   \n",
       "578             1354.0        54.4         28.0         995.6        1006.2   \n",
       "579             1415.0        55.3         27.4         997.4        1008.3   \n",
       "2768            1409.0        56.3         28.2         997.9        1006.7   \n",
       "3856            1430.0        53.5         26.1        1000.2        1008.0   \n",
       "\n",
       "      최고 해면기압 시각(hhmi)  최저 해면기압(hPa)  최저 해면기압 시각(hhmi)  평균 해면기압(hPa)  \\\n",
       "577                812        1001.0            1630.0        1002.8   \n",
       "578                843        1003.7              48.0        1005.0   \n",
       "579               2355        1005.3             142.0        1006.8   \n",
       "2768               807        1004.0            1646.0        1005.5   \n",
       "3856               753        1003.6            1752.0        1006.1   \n",
       "\n",
       "      가조시간(hr)  합계 일조 시간(hr)  1시간 최다일사 시각(hhmi)  1시간 최다일사량(MJ/m2)  \\\n",
       "577       14.1          12.6             1300.0              3.12   \n",
       "578       14.1           9.8             1100.0              2.58   \n",
       "579       14.0          10.5             1400.0              2.71   \n",
       "2768      14.0          13.0             1200.0              3.67   \n",
       "3856      14.1           9.5             1000.0              2.56   \n",
       "\n",
       "      합계 일사(MJ/m2)  일 최심신적설(cm)  일 최심신적설 시각(hhmi)  일 최심적설(cm)  \\\n",
       "577          25.69          NaN               NaN         NaN   \n",
       "578          18.58          NaN               NaN         NaN   \n",
       "579          21.09          NaN               NaN         NaN   \n",
       "2768         29.50          NaN               NaN         NaN   \n",
       "3856         19.84          NaN               NaN         NaN   \n",
       "\n",
       "      일 최심적설 시각(hhmi)  합계 3시간 신적설(cm)  평균 전운량(1/10)  평균 중하층운량(1/10)  \\\n",
       "577               NaN             NaN           0.8             0.8   \n",
       "578               NaN             NaN           4.0             2.0   \n",
       "579               NaN             NaN           1.0             1.0   \n",
       "2768              NaN             NaN           1.4             0.4   \n",
       "3856              NaN             NaN           3.4             3.3   \n",
       "\n",
       "      평균 지면온도(°C)  최저 초상온도(°C)  평균 5cm 지중온도(°C)  평균 10cm 지중온도(°C)  \\\n",
       "577          40.1         23.1             34.0              32.6   \n",
       "578          36.8         26.8             33.7              32.8   \n",
       "579          39.3         26.5             34.1              32.9   \n",
       "2768         42.7         24.6             38.2              36.6   \n",
       "3856         39.8         25.9              NaN               NaN   \n",
       "\n",
       "      평균 20cm 지중온도(°C)  평균 30cm 지중온도(°C)  0.5m 지중온도(°C)  1.0m 지중온도(°C)  \\\n",
       "577               30.7              29.6           28.6           25.9   \n",
       "578               31.1              30.1           29.2           26.1   \n",
       "579               31.2              30.2           29.4           26.3   \n",
       "2768              35.1              34.2           30.8           27.5   \n",
       "3856               NaN               NaN            NaN            NaN   \n",
       "\n",
       "      1.5m 지중온도(°C)  3.0m 지중온도(°C)  5.0m 지중온도(°C)  합계 대형증발량(mm)  합계 소형증발량(mm)  \\\n",
       "577            23.8           18.5           15.2           6.6           9.4   \n",
       "578            23.9           18.5           15.2           4.8           6.8   \n",
       "579            24.1           18.6           15.3           5.4           7.8   \n",
       "2768           24.8           19.8           16.4           6.8           9.7   \n",
       "3856            NaN            NaN            NaN           4.9           7.0   \n",
       "\n",
       "      9-9강수(mm)  안개 계속시간(hr)  합계 일조시간(hr)  합계 일사량(MJ/m2)  \n",
       "577         NaN          NaN          NaN            NaN  \n",
       "578         NaN          NaN          NaN            NaN  \n",
       "579         NaN          NaN          NaN            NaN  \n",
       "2768        NaN          NaN          NaN            NaN  \n",
       "3856        NaN          NaN          NaN            NaN  "
      ],
      "text/html": "<div>\n<style scoped>\n    .dataframe tbody tr th:only-of-type {\n        vertical-align: middle;\n    }\n\n    .dataframe tbody tr th {\n        vertical-align: top;\n    }\n\n    .dataframe thead th {\n        text-align: right;\n    }\n</style>\n<table border=\"1\" class=\"dataframe\">\n  <thead>\n    <tr style=\"text-align: right;\">\n      <th></th>\n      <th>지점</th>\n      <th>지점명</th>\n      <th>일시</th>\n      <th>평균기온(°C)</th>\n      <th>최저기온(°C)</th>\n      <th>최저기온 시각(hhmi)</th>\n      <th>최고기온(°C)</th>\n      <th>최고기온 시각(hhmi)</th>\n      <th>강수 계속시간(hr)</th>\n      <th>10분 최다 강수량(mm)</th>\n      <th>10분 최다강수량 시각(hhmi)</th>\n      <th>1시간 최다강수량(mm)</th>\n      <th>1시간 최다 강수량 시각(hhmi)</th>\n      <th>일강수량(mm)</th>\n      <th>최대 순간 풍속(m/s)</th>\n      <th>최대 순간 풍속 풍향(16방위)</th>\n      <th>최대 순간풍속 시각(hhmi)</th>\n      <th>최대 풍속(m/s)</th>\n      <th>최대 풍속 풍향(16방위)</th>\n      <th>최대 풍속 시각(hhmi)</th>\n      <th>평균 풍속(m/s)</th>\n      <th>풍정합(100m)</th>\n      <th>평균 이슬점온도(°C)</th>\n      <th>최소 상대습도(%)</th>\n      <th>최소 상대습도 시각(hhmi)</th>\n      <th>평균 상대습도(%)</th>\n      <th>평균 증기압(hPa)</th>\n      <th>평균 현지기압(hPa)</th>\n      <th>최고 해면기압(hPa)</th>\n      <th>최고 해면기압 시각(hhmi)</th>\n      <th>최저 해면기압(hPa)</th>\n      <th>최저 해면기압 시각(hhmi)</th>\n      <th>평균 해면기압(hPa)</th>\n      <th>가조시간(hr)</th>\n      <th>합계 일조 시간(hr)</th>\n      <th>1시간 최다일사 시각(hhmi)</th>\n      <th>1시간 최다일사량(MJ/m2)</th>\n      <th>합계 일사(MJ/m2)</th>\n      <th>일 최심신적설(cm)</th>\n      <th>일 최심신적설 시각(hhmi)</th>\n      <th>일 최심적설(cm)</th>\n      <th>일 최심적설 시각(hhmi)</th>\n      <th>합계 3시간 신적설(cm)</th>\n      <th>평균 전운량(1/10)</th>\n      <th>평균 중하층운량(1/10)</th>\n      <th>평균 지면온도(°C)</th>\n      <th>최저 초상온도(°C)</th>\n      <th>평균 5cm 지중온도(°C)</th>\n      <th>평균 10cm 지중온도(°C)</th>\n      <th>평균 20cm 지중온도(°C)</th>\n      <th>평균 30cm 지중온도(°C)</th>\n      <th>0.5m 지중온도(°C)</th>\n      <th>1.0m 지중온도(°C)</th>\n      <th>1.5m 지중온도(°C)</th>\n      <th>3.0m 지중온도(°C)</th>\n      <th>5.0m 지중온도(°C)</th>\n      <th>합계 대형증발량(mm)</th>\n      <th>합계 소형증발량(mm)</th>\n      <th>9-9강수(mm)</th>\n      <th>안개 계속시간(hr)</th>\n      <th>합계 일조시간(hr)</th>\n      <th>합계 일사량(MJ/m2)</th>\n    </tr>\n  </thead>\n  <tbody>\n    <tr>\n      <th>577</th>\n      <td>108</td>\n      <td>서울</td>\n      <td>2018-08-01</td>\n      <td>33.6</td>\n      <td>27.8</td>\n      <td>556.0</td>\n      <td>39.6</td>\n      <td>1536.0</td>\n      <td>NaN</td>\n      <td>NaN</td>\n      <td>NaN</td>\n      <td>NaN</td>\n      <td>NaN</td>\n      <td>NaN</td>\n      <td>7.1</td>\n      <td>20.0</td>\n      <td>1246.0</td>\n      <td>4.0</td>\n      <td>270.0</td>\n      <td>1802.0</td>\n      <td>1.7</td>\n      <td>1454.0</td>\n      <td>22.9</td>\n      <td>35.0</td>\n      <td>1253.0</td>\n      <td>55.5</td>\n      <td>28.0</td>\n      <td>993.4</td>\n      <td>1004.1</td>\n      <td>812</td>\n      <td>1001.0</td>\n      <td>1630.0</td>\n      <td>1002.8</td>\n      <td>14.1</td>\n      <td>12.6</td>\n      <td>1300.0</td>\n      <td>3.12</td>\n      <td>25.69</td>\n      <td>NaN</td>\n      <td>NaN</td>\n      <td>NaN</td>\n      <td>NaN</td>\n      <td>NaN</td>\n      <td>0.8</td>\n      <td>0.8</td>\n      <td>40.1</td>\n      <td>23.1</td>\n      <td>34.0</td>\n      <td>32.6</td>\n      <td>30.7</td>\n      <td>29.6</td>\n      <td>28.6</td>\n      <td>25.9</td>\n      <td>23.8</td>\n      <td>18.5</td>\n      <td>15.2</td>\n      <td>6.6</td>\n      <td>9.4</td>\n      <td>NaN</td>\n      <td>NaN</td>\n      <td>NaN</td>\n      <td>NaN</td>\n    </tr>\n    <tr>\n      <th>578</th>\n      <td>108</td>\n      <td>서울</td>\n      <td>2018-08-02</td>\n      <td>33.7</td>\n      <td>30.3</td>\n      <td>607.0</td>\n      <td>37.9</td>\n      <td>1558.0</td>\n      <td>NaN</td>\n      <td>NaN</td>\n      <td>NaN</td>\n      <td>NaN</td>\n      <td>NaN</td>\n      <td>NaN</td>\n      <td>7.0</td>\n      <td>320.0</td>\n      <td>1632.0</td>\n      <td>3.2</td>\n      <td>320.0</td>\n      <td>1633.0</td>\n      <td>1.6</td>\n      <td>1343.0</td>\n      <td>22.9</td>\n      <td>38.0</td>\n      <td>1354.0</td>\n      <td>54.4</td>\n      <td>28.0</td>\n      <td>995.6</td>\n      <td>1006.2</td>\n      <td>843</td>\n      <td>1003.7</td>\n      <td>48.0</td>\n      <td>1005.0</td>\n      <td>14.1</td>\n      <td>9.8</td>\n      <td>1100.0</td>\n      <td>2.58</td>\n      <td>18.58</td>\n      <td>NaN</td>\n      <td>NaN</td>\n      <td>NaN</td>\n      <td>NaN</td>\n      <td>NaN</td>\n      <td>4.0</td>\n      <td>2.0</td>\n      <td>36.8</td>\n      <td>26.8</td>\n      <td>33.7</td>\n      <td>32.8</td>\n      <td>31.1</td>\n      <td>30.1</td>\n      <td>29.2</td>\n      <td>26.1</td>\n      <td>23.9</td>\n      <td>18.5</td>\n      <td>15.2</td>\n      <td>4.8</td>\n      <td>6.8</td>\n      <td>NaN</td>\n      <td>NaN</td>\n      <td>NaN</td>\n      <td>NaN</td>\n    </tr>\n    <tr>\n      <th>579</th>\n      <td>108</td>\n      <td>서울</td>\n      <td>2018-08-03</td>\n      <td>33.1</td>\n      <td>30.0</td>\n      <td>2342.0</td>\n      <td>37.9</td>\n      <td>1415.0</td>\n      <td>NaN</td>\n      <td>NaN</td>\n      <td>NaN</td>\n      <td>NaN</td>\n      <td>NaN</td>\n      <td>NaN</td>\n      <td>7.3</td>\n      <td>320.0</td>\n      <td>1454.0</td>\n      <td>4.2</td>\n      <td>320.0</td>\n      <td>1523.0</td>\n      <td>1.9</td>\n      <td>1628.0</td>\n      <td>22.6</td>\n      <td>39.0</td>\n      <td>1415.0</td>\n      <td>55.3</td>\n      <td>27.4</td>\n      <td>997.4</td>\n      <td>1008.3</td>\n      <td>2355</td>\n      <td>1005.3</td>\n      <td>142.0</td>\n      <td>1006.8</td>\n      <td>14.0</td>\n      <td>10.5</td>\n      <td>1400.0</td>\n      <td>2.71</td>\n      <td>21.09</td>\n      <td>NaN</td>\n      <td>NaN</td>\n      <td>NaN</td>\n      <td>NaN</td>\n      <td>NaN</td>\n      <td>1.0</td>\n      <td>1.0</td>\n      <td>39.3</td>\n      <td>26.5</td>\n      <td>34.1</td>\n      <td>32.9</td>\n      <td>31.2</td>\n      <td>30.2</td>\n      <td>29.4</td>\n      <td>26.3</td>\n      <td>24.1</td>\n      <td>18.6</td>\n      <td>15.3</td>\n      <td>5.4</td>\n      <td>7.8</td>\n      <td>NaN</td>\n      <td>NaN</td>\n      <td>NaN</td>\n      <td>NaN</td>\n    </tr>\n    <tr>\n      <th>2768</th>\n      <td>133</td>\n      <td>대전</td>\n      <td>2018-08-02</td>\n      <td>33.4</td>\n      <td>27.6</td>\n      <td>610.0</td>\n      <td>38.6</td>\n      <td>1406.0</td>\n      <td>NaN</td>\n      <td>NaN</td>\n      <td>NaN</td>\n      <td>NaN</td>\n      <td>NaN</td>\n      <td>NaN</td>\n      <td>6.9</td>\n      <td>70.0</td>\n      <td>1218.0</td>\n      <td>3.7</td>\n      <td>110.0</td>\n      <td>1716.0</td>\n      <td>1.9</td>\n      <td>1684.0</td>\n      <td>23.1</td>\n      <td>40.0</td>\n      <td>1409.0</td>\n      <td>56.3</td>\n      <td>28.2</td>\n      <td>997.9</td>\n      <td>1006.7</td>\n      <td>807</td>\n      <td>1004.0</td>\n      <td>1646.0</td>\n      <td>1005.5</td>\n      <td>14.0</td>\n      <td>13.0</td>\n      <td>1200.0</td>\n      <td>3.67</td>\n      <td>29.50</td>\n      <td>NaN</td>\n      <td>NaN</td>\n      <td>NaN</td>\n      <td>NaN</td>\n      <td>NaN</td>\n      <td>1.4</td>\n      <td>0.4</td>\n      <td>42.7</td>\n      <td>24.6</td>\n      <td>38.2</td>\n      <td>36.6</td>\n      <td>35.1</td>\n      <td>34.2</td>\n      <td>30.8</td>\n      <td>27.5</td>\n      <td>24.8</td>\n      <td>19.8</td>\n      <td>16.4</td>\n      <td>6.8</td>\n      <td>9.7</td>\n      <td>NaN</td>\n      <td>NaN</td>\n      <td>NaN</td>\n      <td>NaN</td>\n    </tr>\n    <tr>\n      <th>3856</th>\n      <td>143</td>\n      <td>대구</td>\n      <td>2018-07-26</td>\n      <td>33.1</td>\n      <td>27.9</td>\n      <td>542.0</td>\n      <td>38.0</td>\n      <td>1353.0</td>\n      <td>NaN</td>\n      <td>NaN</td>\n      <td>NaN</td>\n      <td>NaN</td>\n      <td>NaN</td>\n      <td>NaN</td>\n      <td>5.4</td>\n      <td>290.0</td>\n      <td>1319.0</td>\n      <td>3.2</td>\n      <td>340.0</td>\n      <td>1714.0</td>\n      <td>1.8</td>\n      <td>1522.0</td>\n      <td>21.8</td>\n      <td>33.0</td>\n      <td>1430.0</td>\n      <td>53.5</td>\n      <td>26.1</td>\n      <td>1000.2</td>\n      <td>1008.0</td>\n      <td>753</td>\n      <td>1003.6</td>\n      <td>1752.0</td>\n      <td>1006.1</td>\n      <td>14.1</td>\n      <td>9.5</td>\n      <td>1000.0</td>\n      <td>2.56</td>\n      <td>19.84</td>\n      <td>NaN</td>\n      <td>NaN</td>\n      <td>NaN</td>\n      <td>NaN</td>\n      <td>NaN</td>\n      <td>3.4</td>\n      <td>3.3</td>\n      <td>39.8</td>\n      <td>25.9</td>\n      <td>NaN</td>\n      <td>NaN</td>\n      <td>NaN</td>\n      <td>NaN</td>\n      <td>NaN</td>\n      <td>NaN</td>\n      <td>NaN</td>\n      <td>NaN</td>\n      <td>NaN</td>\n      <td>4.9</td>\n      <td>7.0</td>\n      <td>NaN</td>\n      <td>NaN</td>\n      <td>NaN</td>\n      <td>NaN</td>\n    </tr>\n  </tbody>\n</table>\n</div>"
     },
     "metadata": {},
     "execution_count": 25
    }
   ],
   "source": [
    "# 평균기온이 33도 이상인 날만 가져오기\n",
    "\n",
    "df[df[\"평균기온(°C)\"] > 33]"
   ]
  },
  {
   "cell_type": "code",
   "execution_count": null,
   "metadata": {},
   "outputs": [],
   "source": []
  }
 ]
}